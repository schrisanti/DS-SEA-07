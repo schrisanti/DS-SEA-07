{
 "cells": [
  {
   "cell_type": "markdown",
   "metadata": {},
   "source": [
    "# Linear regression homework with Yelp votes"
   ]
  },
  {
   "cell_type": "markdown",
   "metadata": {},
   "source": [
    "## Introduction\n",
    "\n",
    "This assignment uses a small subset of the data from Kaggle's [Yelp Business Rating Prediction](https://www.kaggle.com/c/yelp-recsys-2013) competition.\n",
    "\n",
    "**Description of the data:**\n",
    "\n",
    "- `yelp.json` is the original format of the file. `yelp.csv` contains the same data, in a more convenient format. Both of the files are in this repo, so there is no need to download the data from the Kaggle website.\n",
    "- Each observation in this dataset is a review of a particular business by a particular user.\n",
    "- The \"stars\" column is the number of stars (1 through 5) assigned by the reviewer to the business. (Higher stars is better.) In other words, it is the rating of the business by the person who wrote the review.\n",
    "- The \"cool\" column is the number of \"cool\" votes this review received from other Yelp users. All reviews start with 0 \"cool\" votes, and there is no limit to how many \"cool\" votes a review can receive. In other words, it is a rating of the review itself, not a rating of the business.\n",
    "- The \"useful\" and \"funny\" columns are similar to the \"cool\" column."
   ]
  },
  {
   "cell_type": "markdown",
   "metadata": {},
   "source": [
    "## Task 1\n",
    "\n",
    "Read `yelp.csv` into a DataFrame."
   ]
  },
  {
   "cell_type": "code",
   "execution_count": 3,
   "metadata": {},
   "outputs": [
    {
     "data": {
      "text/html": [
       "<div>\n",
       "<style>\n",
       "    .dataframe thead tr:only-child th {\n",
       "        text-align: right;\n",
       "    }\n",
       "\n",
       "    .dataframe thead th {\n",
       "        text-align: left;\n",
       "    }\n",
       "\n",
       "    .dataframe tbody tr th {\n",
       "        vertical-align: top;\n",
       "    }\n",
       "</style>\n",
       "<table border=\"1\" class=\"dataframe\">\n",
       "  <thead>\n",
       "    <tr style=\"text-align: right;\">\n",
       "      <th></th>\n",
       "      <th>business_id</th>\n",
       "      <th>date</th>\n",
       "      <th>review_id</th>\n",
       "      <th>stars</th>\n",
       "      <th>text</th>\n",
       "      <th>type</th>\n",
       "      <th>user_id</th>\n",
       "      <th>cool</th>\n",
       "      <th>useful</th>\n",
       "      <th>funny</th>\n",
       "    </tr>\n",
       "  </thead>\n",
       "  <tbody>\n",
       "    <tr>\n",
       "      <th>0</th>\n",
       "      <td>9yKzy9PApeiPPOUJEtnvkg</td>\n",
       "      <td>2011-01-26</td>\n",
       "      <td>fWKvX83p0-ka4JS3dc6E5A</td>\n",
       "      <td>5</td>\n",
       "      <td>My wife took me here on my birthday for breakf...</td>\n",
       "      <td>review</td>\n",
       "      <td>rLtl8ZkDX5vH5nAx9C3q5Q</td>\n",
       "      <td>2</td>\n",
       "      <td>5</td>\n",
       "      <td>0</td>\n",
       "    </tr>\n",
       "    <tr>\n",
       "      <th>1</th>\n",
       "      <td>ZRJwVLyzEJq1VAihDhYiow</td>\n",
       "      <td>2011-07-27</td>\n",
       "      <td>IjZ33sJrzXqU-0X6U8NwyA</td>\n",
       "      <td>5</td>\n",
       "      <td>I have no idea why some people give bad review...</td>\n",
       "      <td>review</td>\n",
       "      <td>0a2KyEL0d3Yb1V6aivbIuQ</td>\n",
       "      <td>0</td>\n",
       "      <td>0</td>\n",
       "      <td>0</td>\n",
       "    </tr>\n",
       "    <tr>\n",
       "      <th>2</th>\n",
       "      <td>6oRAC4uyJCsJl1X0WZpVSA</td>\n",
       "      <td>2012-06-14</td>\n",
       "      <td>IESLBzqUCLdSzSqm0eCSxQ</td>\n",
       "      <td>4</td>\n",
       "      <td>love the gyro plate. Rice is so good and I als...</td>\n",
       "      <td>review</td>\n",
       "      <td>0hT2KtfLiobPvh6cDC8JQg</td>\n",
       "      <td>0</td>\n",
       "      <td>1</td>\n",
       "      <td>0</td>\n",
       "    </tr>\n",
       "  </tbody>\n",
       "</table>\n",
       "</div>"
      ],
      "text/plain": [
       "              business_id        date               review_id  stars  \\\n",
       "0  9yKzy9PApeiPPOUJEtnvkg  2011-01-26  fWKvX83p0-ka4JS3dc6E5A      5   \n",
       "1  ZRJwVLyzEJq1VAihDhYiow  2011-07-27  IjZ33sJrzXqU-0X6U8NwyA      5   \n",
       "2  6oRAC4uyJCsJl1X0WZpVSA  2012-06-14  IESLBzqUCLdSzSqm0eCSxQ      4   \n",
       "\n",
       "                                                text    type  \\\n",
       "0  My wife took me here on my birthday for breakf...  review   \n",
       "1  I have no idea why some people give bad review...  review   \n",
       "2  love the gyro plate. Rice is so good and I als...  review   \n",
       "\n",
       "                  user_id  cool  useful  funny  \n",
       "0  rLtl8ZkDX5vH5nAx9C3q5Q     2       5      0  \n",
       "1  0a2KyEL0d3Yb1V6aivbIuQ     0       0      0  \n",
       "2  0hT2KtfLiobPvh6cDC8JQg     0       1      0  "
      ]
     },
     "execution_count": 3,
     "metadata": {},
     "output_type": "execute_result"
    }
   ],
   "source": [
    "# access yelp.csv using a relative path\n",
    "import pandas as pd\n",
    "yelp = pd.read_csv('../data/yelp.csv')\n",
    "yelp.head(3)"
   ]
  },
  {
   "cell_type": "code",
   "execution_count": 4,
   "metadata": {},
   "outputs": [
    {
     "data": {
      "text/html": [
       "<div>\n",
       "<style>\n",
       "    .dataframe thead tr:only-child th {\n",
       "        text-align: right;\n",
       "    }\n",
       "\n",
       "    .dataframe thead th {\n",
       "        text-align: left;\n",
       "    }\n",
       "\n",
       "    .dataframe tbody tr th {\n",
       "        vertical-align: top;\n",
       "    }\n",
       "</style>\n",
       "<table border=\"1\" class=\"dataframe\">\n",
       "  <thead>\n",
       "    <tr style=\"text-align: right;\">\n",
       "      <th></th>\n",
       "      <th>business_id</th>\n",
       "      <th>date</th>\n",
       "      <th>review_id</th>\n",
       "      <th>stars</th>\n",
       "      <th>text</th>\n",
       "      <th>type</th>\n",
       "      <th>user_id</th>\n",
       "      <th>cool</th>\n",
       "      <th>useful</th>\n",
       "      <th>funny</th>\n",
       "    </tr>\n",
       "  </thead>\n",
       "  <tbody>\n",
       "    <tr>\n",
       "      <th>9953</th>\n",
       "      <td>QCxXYA13PtkD3wec47_r8Q</td>\n",
       "      <td>2012-03-14</td>\n",
       "      <td>V2N2TCqnaqMYfg7zXGG-Rg</td>\n",
       "      <td>1</td>\n",
       "      <td>\"Hipster,Trendy\" ????-I think NOT !!!! Very di...</td>\n",
       "      <td>review</td>\n",
       "      <td>JEQ6el2-tLtKJU6k_SpE-w</td>\n",
       "      <td>0</td>\n",
       "      <td>2</td>\n",
       "      <td>0</td>\n",
       "    </tr>\n",
       "    <tr>\n",
       "      <th>3850</th>\n",
       "      <td>hGQsnkndreW7b26XC2HVRA</td>\n",
       "      <td>2010-03-17</td>\n",
       "      <td>ScnMz8HfacbcMtZ7lFbo-Q</td>\n",
       "      <td>4</td>\n",
       "      <td>My husband &amp; I have been going to one Zipp's o...</td>\n",
       "      <td>review</td>\n",
       "      <td>RJX1E5_xwd5x15TYFOYv1g</td>\n",
       "      <td>0</td>\n",
       "      <td>1</td>\n",
       "      <td>0</td>\n",
       "    </tr>\n",
       "    <tr>\n",
       "      <th>4962</th>\n",
       "      <td>_TekkyyFeX_8MBepPIxuTg</td>\n",
       "      <td>2012-08-09</td>\n",
       "      <td>IwujucKW_I4Hd-D47N3jWQ</td>\n",
       "      <td>5</td>\n",
       "      <td>Perfect place for a hot summer day.  Amazing p...</td>\n",
       "      <td>review</td>\n",
       "      <td>ngU1vdwjT2lGOsdTq1JK5A</td>\n",
       "      <td>0</td>\n",
       "      <td>1</td>\n",
       "      <td>0</td>\n",
       "    </tr>\n",
       "  </tbody>\n",
       "</table>\n",
       "</div>"
      ],
      "text/plain": [
       "                 business_id        date               review_id  stars  \\\n",
       "9953  QCxXYA13PtkD3wec47_r8Q  2012-03-14  V2N2TCqnaqMYfg7zXGG-Rg      1   \n",
       "3850  hGQsnkndreW7b26XC2HVRA  2010-03-17  ScnMz8HfacbcMtZ7lFbo-Q      4   \n",
       "4962  _TekkyyFeX_8MBepPIxuTg  2012-08-09  IwujucKW_I4Hd-D47N3jWQ      5   \n",
       "\n",
       "                                                   text    type  \\\n",
       "9953  \"Hipster,Trendy\" ????-I think NOT !!!! Very di...  review   \n",
       "3850  My husband & I have been going to one Zipp's o...  review   \n",
       "4962  Perfect place for a hot summer day.  Amazing p...  review   \n",
       "\n",
       "                     user_id  cool  useful  funny  \n",
       "9953  JEQ6el2-tLtKJU6k_SpE-w     0       2      0  \n",
       "3850  RJX1E5_xwd5x15TYFOYv1g     0       1      0  \n",
       "4962  ngU1vdwjT2lGOsdTq1JK5A     0       1      0  "
      ]
     },
     "execution_count": 4,
     "metadata": {},
     "output_type": "execute_result"
    }
   ],
   "source": [
    "yelp.sample(n=3, random_state=1)"
   ]
  },
  {
   "cell_type": "markdown",
   "metadata": {},
   "source": [
    "### SEC: Extra items from prior classes to practice exploring the data"
   ]
  },
  {
   "cell_type": "code",
   "execution_count": 16,
   "metadata": {},
   "outputs": [
    {
     "data": {
      "text/html": [
       "<div>\n",
       "<style>\n",
       "    .dataframe thead tr:only-child th {\n",
       "        text-align: right;\n",
       "    }\n",
       "\n",
       "    .dataframe thead th {\n",
       "        text-align: left;\n",
       "    }\n",
       "\n",
       "    .dataframe tbody tr th {\n",
       "        vertical-align: top;\n",
       "    }\n",
       "</style>\n",
       "<table border=\"1\" class=\"dataframe\">\n",
       "  <thead>\n",
       "    <tr style=\"text-align: right;\">\n",
       "      <th></th>\n",
       "      <th>business_id</th>\n",
       "      <th>date</th>\n",
       "      <th>review_id</th>\n",
       "      <th>stars</th>\n",
       "      <th>text</th>\n",
       "      <th>type</th>\n",
       "      <th>user_id</th>\n",
       "      <th>cool</th>\n",
       "      <th>useful</th>\n",
       "      <th>funny</th>\n",
       "    </tr>\n",
       "    <tr>\n",
       "      <th>stars</th>\n",
       "      <th></th>\n",
       "      <th></th>\n",
       "      <th></th>\n",
       "      <th></th>\n",
       "      <th></th>\n",
       "      <th></th>\n",
       "      <th></th>\n",
       "      <th></th>\n",
       "      <th></th>\n",
       "      <th></th>\n",
       "    </tr>\n",
       "  </thead>\n",
       "  <tbody>\n",
       "    <tr>\n",
       "      <th>False</th>\n",
       "      <td>10000</td>\n",
       "      <td>10000</td>\n",
       "      <td>10000</td>\n",
       "      <td>10000</td>\n",
       "      <td>10000</td>\n",
       "      <td>10000</td>\n",
       "      <td>10000</td>\n",
       "      <td>10000</td>\n",
       "      <td>10000</td>\n",
       "      <td>10000</td>\n",
       "    </tr>\n",
       "  </tbody>\n",
       "</table>\n",
       "</div>"
      ],
      "text/plain": [
       "       business_id   date  review_id  stars   text   type  user_id   cool  \\\n",
       "stars                                                                       \n",
       "False        10000  10000      10000  10000  10000  10000    10000  10000   \n",
       "\n",
       "       useful  funny  \n",
       "stars                 \n",
       "False   10000  10000  "
      ]
     },
     "execution_count": 16,
     "metadata": {},
     "output_type": "execute_result"
    }
   ],
   "source": [
    "#SEC: check to see whether there are null values in the data\n",
    "yelp.groupby(yelp.stars.isnull()).count()"
   ]
  },
  {
   "cell_type": "code",
   "execution_count": 13,
   "metadata": {},
   "outputs": [
    {
     "data": {
      "text/plain": [
       "business_id    object\n",
       "date           object\n",
       "review_id      object\n",
       "stars           int64\n",
       "text           object\n",
       "type           object\n",
       "user_id        object\n",
       "cool            int64\n",
       "useful          int64\n",
       "funny           int64\n",
       "dtype: object"
      ]
     },
     "execution_count": 13,
     "metadata": {},
     "output_type": "execute_result"
    }
   ],
   "source": [
    "#SEC: verify the data types\n",
    "yelp.dtypes"
   ]
  },
  {
   "cell_type": "code",
   "execution_count": 18,
   "metadata": {},
   "outputs": [
    {
     "data": {
      "text/html": [
       "<div>\n",
       "<style>\n",
       "    .dataframe thead tr:only-child th {\n",
       "        text-align: right;\n",
       "    }\n",
       "\n",
       "    .dataframe thead th {\n",
       "        text-align: left;\n",
       "    }\n",
       "\n",
       "    .dataframe tbody tr th {\n",
       "        vertical-align: top;\n",
       "    }\n",
       "</style>\n",
       "<table border=\"1\" class=\"dataframe\">\n",
       "  <thead>\n",
       "    <tr style=\"text-align: right;\">\n",
       "      <th></th>\n",
       "      <th>stars</th>\n",
       "      <th>cool</th>\n",
       "      <th>useful</th>\n",
       "      <th>funny</th>\n",
       "    </tr>\n",
       "  </thead>\n",
       "  <tbody>\n",
       "    <tr>\n",
       "      <th>count</th>\n",
       "      <td>10000.000000</td>\n",
       "      <td>10000.000000</td>\n",
       "      <td>10000.000000</td>\n",
       "      <td>10000.000000</td>\n",
       "    </tr>\n",
       "    <tr>\n",
       "      <th>mean</th>\n",
       "      <td>3.777500</td>\n",
       "      <td>0.876800</td>\n",
       "      <td>1.409300</td>\n",
       "      <td>0.701300</td>\n",
       "    </tr>\n",
       "    <tr>\n",
       "      <th>std</th>\n",
       "      <td>1.214636</td>\n",
       "      <td>2.067861</td>\n",
       "      <td>2.336647</td>\n",
       "      <td>1.907942</td>\n",
       "    </tr>\n",
       "    <tr>\n",
       "      <th>min</th>\n",
       "      <td>1.000000</td>\n",
       "      <td>0.000000</td>\n",
       "      <td>0.000000</td>\n",
       "      <td>0.000000</td>\n",
       "    </tr>\n",
       "    <tr>\n",
       "      <th>25%</th>\n",
       "      <td>3.000000</td>\n",
       "      <td>0.000000</td>\n",
       "      <td>0.000000</td>\n",
       "      <td>0.000000</td>\n",
       "    </tr>\n",
       "    <tr>\n",
       "      <th>50%</th>\n",
       "      <td>4.000000</td>\n",
       "      <td>0.000000</td>\n",
       "      <td>1.000000</td>\n",
       "      <td>0.000000</td>\n",
       "    </tr>\n",
       "    <tr>\n",
       "      <th>75%</th>\n",
       "      <td>5.000000</td>\n",
       "      <td>1.000000</td>\n",
       "      <td>2.000000</td>\n",
       "      <td>1.000000</td>\n",
       "    </tr>\n",
       "    <tr>\n",
       "      <th>max</th>\n",
       "      <td>5.000000</td>\n",
       "      <td>77.000000</td>\n",
       "      <td>76.000000</td>\n",
       "      <td>57.000000</td>\n",
       "    </tr>\n",
       "  </tbody>\n",
       "</table>\n",
       "</div>"
      ],
      "text/plain": [
       "              stars          cool        useful         funny\n",
       "count  10000.000000  10000.000000  10000.000000  10000.000000\n",
       "mean       3.777500      0.876800      1.409300      0.701300\n",
       "std        1.214636      2.067861      2.336647      1.907942\n",
       "min        1.000000      0.000000      0.000000      0.000000\n",
       "25%        3.000000      0.000000      0.000000      0.000000\n",
       "50%        4.000000      0.000000      1.000000      0.000000\n",
       "75%        5.000000      1.000000      2.000000      1.000000\n",
       "max        5.000000     77.000000     76.000000     57.000000"
      ]
     },
     "execution_count": 18,
     "metadata": {},
     "output_type": "execute_result"
    }
   ],
   "source": [
    "#SEC: explore the numeric data in the .csv\n",
    "yelp.describe()"
   ]
  },
  {
   "cell_type": "code",
   "execution_count": 100,
   "metadata": {},
   "outputs": [
    {
     "data": {
      "text/plain": [
       "stars\n",
       "1     749\n",
       "2     927\n",
       "3    1461\n",
       "4    3526\n",
       "5    3337\n",
       "Name: business_id, dtype: int64"
      ]
     },
     "execution_count": 100,
     "metadata": {},
     "output_type": "execute_result"
    }
   ],
   "source": [
    "#SEC: Count how many rows for each of the star classifications (1 thru 5)\n",
    "yelp.groupby(['stars']).business_id.count()\n",
    "\n",
    "#SEC: this was another method I used, although it gave me counts for all three features (which wasn't quite what I was looking for)\n",
    "    #yelp.groupby(['stars']).agg(['mean', 'count']) \n",
    "# resource = https://stackoverflow.com/questions/19384532/how-to-count-number-of-rows-in-a-group-in-pandas-group-by-object\n",
    "#1=7%, 2=9%, 3=15%, 4=35%, 5=33%\n"
   ]
  },
  {
   "cell_type": "markdown",
   "metadata": {},
   "source": [
    "## Task 1 (Bonus)\n",
    "\n",
    "Ignore the `yelp.csv` file, and construct this DataFrame yourself from `yelp.json`. This involves reading the data into Python, decoding the JSON, converting it to a DataFrame, and adding individual columns for each of the vote types."
   ]
  },
  {
   "cell_type": "code",
   "execution_count": 23,
   "metadata": {},
   "outputs": [],
   "source": [
    "# read the data from yelp.json into a list of rows\n",
    "# each row is decoded into a dictionary named \"data\" using using json.loads()\n",
    "import json\n",
    "with open('../data/yelp.json', 'rU') as f:\n",
    "    data = [json.loads(row) for row in f]"
   ]
  },
  {
   "cell_type": "code",
   "execution_count": 24,
   "metadata": {},
   "outputs": [
    {
     "data": {
      "text/plain": [
       "list"
      ]
     },
     "execution_count": 24,
     "metadata": {},
     "output_type": "execute_result"
    }
   ],
   "source": [
    "# show the first review\n",
    "type(data)"
   ]
  },
  {
   "cell_type": "code",
   "execution_count": 28,
   "metadata": {},
   "outputs": [
    {
     "data": {
      "text/plain": [
       "[{u'business_id': u'9yKzy9PApeiPPOUJEtnvkg',\n",
       "  u'date': u'2011-01-26',\n",
       "  u'review_id': u'fWKvX83p0-ka4JS3dc6E5A',\n",
       "  u'stars': 5,\n",
       "  u'text': u'My wife took me here on my birthday for breakfast and it was excellent.  The weather was perfect which made sitting outside overlooking their grounds an absolute pleasure.  Our waitress was excellent and our food arrived quickly on the semi-busy Saturday morning.  It looked like the place fills up pretty quickly so the earlier you get here the better.\\n\\nDo yourself a favor and get their Bloody Mary.  It was phenomenal and simply the best I\\'ve ever had.  I\\'m pretty sure they only use ingredients from their garden and blend them fresh when you order it.  It was amazing.\\n\\nWhile EVERYTHING on the menu looks excellent, I had the white truffle scrambled eggs vegetable skillet and it was tasty and delicious.  It came with 2 pieces of their griddled bread with was amazing and it absolutely made the meal complete.  It was the best \"toast\" I\\'ve ever had.\\n\\nAnyway, I can\\'t wait to go back!',\n",
       "  u'type': u'review',\n",
       "  u'user_id': u'rLtl8ZkDX5vH5nAx9C3q5Q',\n",
       "  u'votes': {u'cool': 2, u'funny': 0, u'useful': 5}}]"
      ]
     },
     "execution_count": 28,
     "metadata": {},
     "output_type": "execute_result"
    }
   ],
   "source": [
    "# show the first review\n",
    "data[0:1]\n",
    "\n",
    "#SEC: note that this is the \"first\" as in first record, not \"first\" review as in earliest review.\n",
    "    # see the end of this section for \"first\" = earliest "
   ]
  },
  {
   "cell_type": "code",
   "execution_count": 30,
   "metadata": {},
   "outputs": [
    {
     "data": {
      "text/html": [
       "<div>\n",
       "<style>\n",
       "    .dataframe thead tr:only-child th {\n",
       "        text-align: right;\n",
       "    }\n",
       "\n",
       "    .dataframe thead th {\n",
       "        text-align: left;\n",
       "    }\n",
       "\n",
       "    .dataframe tbody tr th {\n",
       "        vertical-align: top;\n",
       "    }\n",
       "</style>\n",
       "<table border=\"1\" class=\"dataframe\">\n",
       "  <thead>\n",
       "    <tr style=\"text-align: right;\">\n",
       "      <th></th>\n",
       "      <th>business_id</th>\n",
       "      <th>date</th>\n",
       "      <th>review_id</th>\n",
       "      <th>stars</th>\n",
       "      <th>text</th>\n",
       "      <th>type</th>\n",
       "      <th>user_id</th>\n",
       "      <th>votes</th>\n",
       "    </tr>\n",
       "  </thead>\n",
       "  <tbody>\n",
       "    <tr>\n",
       "      <th>0</th>\n",
       "      <td>9yKzy9PApeiPPOUJEtnvkg</td>\n",
       "      <td>2011-01-26</td>\n",
       "      <td>fWKvX83p0-ka4JS3dc6E5A</td>\n",
       "      <td>5</td>\n",
       "      <td>My wife took me here on my birthday for breakf...</td>\n",
       "      <td>review</td>\n",
       "      <td>rLtl8ZkDX5vH5nAx9C3q5Q</td>\n",
       "      <td>{u'funny': 0, u'useful': 5, u'cool': 2}</td>\n",
       "    </tr>\n",
       "    <tr>\n",
       "      <th>1</th>\n",
       "      <td>ZRJwVLyzEJq1VAihDhYiow</td>\n",
       "      <td>2011-07-27</td>\n",
       "      <td>IjZ33sJrzXqU-0X6U8NwyA</td>\n",
       "      <td>5</td>\n",
       "      <td>I have no idea why some people give bad review...</td>\n",
       "      <td>review</td>\n",
       "      <td>0a2KyEL0d3Yb1V6aivbIuQ</td>\n",
       "      <td>{u'funny': 0, u'useful': 0, u'cool': 0}</td>\n",
       "    </tr>\n",
       "    <tr>\n",
       "      <th>2</th>\n",
       "      <td>6oRAC4uyJCsJl1X0WZpVSA</td>\n",
       "      <td>2012-06-14</td>\n",
       "      <td>IESLBzqUCLdSzSqm0eCSxQ</td>\n",
       "      <td>4</td>\n",
       "      <td>love the gyro plate. Rice is so good and I als...</td>\n",
       "      <td>review</td>\n",
       "      <td>0hT2KtfLiobPvh6cDC8JQg</td>\n",
       "      <td>{u'funny': 0, u'useful': 1, u'cool': 0}</td>\n",
       "    </tr>\n",
       "  </tbody>\n",
       "</table>\n",
       "</div>"
      ],
      "text/plain": [
       "              business_id        date               review_id  stars  \\\n",
       "0  9yKzy9PApeiPPOUJEtnvkg  2011-01-26  fWKvX83p0-ka4JS3dc6E5A      5   \n",
       "1  ZRJwVLyzEJq1VAihDhYiow  2011-07-27  IjZ33sJrzXqU-0X6U8NwyA      5   \n",
       "2  6oRAC4uyJCsJl1X0WZpVSA  2012-06-14  IESLBzqUCLdSzSqm0eCSxQ      4   \n",
       "\n",
       "                                                text    type  \\\n",
       "0  My wife took me here on my birthday for breakf...  review   \n",
       "1  I have no idea why some people give bad review...  review   \n",
       "2  love the gyro plate. Rice is so good and I als...  review   \n",
       "\n",
       "                  user_id                                    votes  \n",
       "0  rLtl8ZkDX5vH5nAx9C3q5Q  {u'funny': 0, u'useful': 5, u'cool': 2}  \n",
       "1  0a2KyEL0d3Yb1V6aivbIuQ  {u'funny': 0, u'useful': 0, u'cool': 0}  \n",
       "2  0hT2KtfLiobPvh6cDC8JQg  {u'funny': 0, u'useful': 1, u'cool': 0}  "
      ]
     },
     "execution_count": 30,
     "metadata": {},
     "output_type": "execute_result"
    }
   ],
   "source": [
    "# convert the list of dictionaries to a pandas DataFrame\n",
    "df = pd.DataFrame.from_dict(data)\n",
    "df.head(3)"
   ]
  },
  {
   "cell_type": "code",
   "execution_count": 31,
   "metadata": {},
   "outputs": [
    {
     "data": {
      "text/html": [
       "<div>\n",
       "<style>\n",
       "    .dataframe thead tr:only-child th {\n",
       "        text-align: right;\n",
       "    }\n",
       "\n",
       "    .dataframe thead th {\n",
       "        text-align: left;\n",
       "    }\n",
       "\n",
       "    .dataframe tbody tr th {\n",
       "        vertical-align: top;\n",
       "    }\n",
       "</style>\n",
       "<table border=\"1\" class=\"dataframe\">\n",
       "  <thead>\n",
       "    <tr style=\"text-align: right;\">\n",
       "      <th></th>\n",
       "      <th>business_id</th>\n",
       "      <th>date</th>\n",
       "      <th>review_id</th>\n",
       "      <th>stars</th>\n",
       "      <th>text</th>\n",
       "      <th>type</th>\n",
       "      <th>user_id</th>\n",
       "      <th>votes</th>\n",
       "    </tr>\n",
       "  </thead>\n",
       "  <tbody>\n",
       "    <tr>\n",
       "      <th>9953</th>\n",
       "      <td>QCxXYA13PtkD3wec47_r8Q</td>\n",
       "      <td>2012-03-14</td>\n",
       "      <td>V2N2TCqnaqMYfg7zXGG-Rg</td>\n",
       "      <td>1</td>\n",
       "      <td>\"Hipster,Trendy\" ????-I think NOT !!!! Very di...</td>\n",
       "      <td>review</td>\n",
       "      <td>JEQ6el2-tLtKJU6k_SpE-w</td>\n",
       "      <td>{u'funny': 0, u'useful': 2, u'cool': 0}</td>\n",
       "    </tr>\n",
       "    <tr>\n",
       "      <th>3850</th>\n",
       "      <td>hGQsnkndreW7b26XC2HVRA</td>\n",
       "      <td>2010-03-17</td>\n",
       "      <td>ScnMz8HfacbcMtZ7lFbo-Q</td>\n",
       "      <td>4</td>\n",
       "      <td>My husband &amp; I have been going to one Zipp's o...</td>\n",
       "      <td>review</td>\n",
       "      <td>RJX1E5_xwd5x15TYFOYv1g</td>\n",
       "      <td>{u'funny': 0, u'useful': 1, u'cool': 0}</td>\n",
       "    </tr>\n",
       "    <tr>\n",
       "      <th>4962</th>\n",
       "      <td>_TekkyyFeX_8MBepPIxuTg</td>\n",
       "      <td>2012-08-09</td>\n",
       "      <td>IwujucKW_I4Hd-D47N3jWQ</td>\n",
       "      <td>5</td>\n",
       "      <td>Perfect place for a hot summer day.  Amazing p...</td>\n",
       "      <td>review</td>\n",
       "      <td>ngU1vdwjT2lGOsdTq1JK5A</td>\n",
       "      <td>{u'funny': 0, u'useful': 1, u'cool': 0}</td>\n",
       "    </tr>\n",
       "  </tbody>\n",
       "</table>\n",
       "</div>"
      ],
      "text/plain": [
       "                 business_id        date               review_id  stars  \\\n",
       "9953  QCxXYA13PtkD3wec47_r8Q  2012-03-14  V2N2TCqnaqMYfg7zXGG-Rg      1   \n",
       "3850  hGQsnkndreW7b26XC2HVRA  2010-03-17  ScnMz8HfacbcMtZ7lFbo-Q      4   \n",
       "4962  _TekkyyFeX_8MBepPIxuTg  2012-08-09  IwujucKW_I4Hd-D47N3jWQ      5   \n",
       "\n",
       "                                                   text    type  \\\n",
       "9953  \"Hipster,Trendy\" ????-I think NOT !!!! Very di...  review   \n",
       "3850  My husband & I have been going to one Zipp's o...  review   \n",
       "4962  Perfect place for a hot summer day.  Amazing p...  review   \n",
       "\n",
       "                     user_id                                    votes  \n",
       "9953  JEQ6el2-tLtKJU6k_SpE-w  {u'funny': 0, u'useful': 2, u'cool': 0}  \n",
       "3850  RJX1E5_xwd5x15TYFOYv1g  {u'funny': 0, u'useful': 1, u'cool': 0}  \n",
       "4962  ngU1vdwjT2lGOsdTq1JK5A  {u'funny': 0, u'useful': 1, u'cool': 0}  "
      ]
     },
     "execution_count": 31,
     "metadata": {},
     "output_type": "execute_result"
    }
   ],
   "source": [
    "df.sample(n=3, random_state=1)"
   ]
  },
  {
   "cell_type": "code",
   "execution_count": 36,
   "metadata": {
    "scrolled": true
   },
   "outputs": [
    {
     "data": {
      "text/html": [
       "<div>\n",
       "<style>\n",
       "    .dataframe thead tr:only-child th {\n",
       "        text-align: right;\n",
       "    }\n",
       "\n",
       "    .dataframe thead th {\n",
       "        text-align: left;\n",
       "    }\n",
       "\n",
       "    .dataframe tbody tr th {\n",
       "        vertical-align: top;\n",
       "    }\n",
       "</style>\n",
       "<table border=\"1\" class=\"dataframe\">\n",
       "  <thead>\n",
       "    <tr style=\"text-align: right;\">\n",
       "      <th></th>\n",
       "      <th>business_id</th>\n",
       "      <th>date</th>\n",
       "      <th>review_id</th>\n",
       "      <th>stars</th>\n",
       "      <th>text</th>\n",
       "      <th>type</th>\n",
       "      <th>user_id</th>\n",
       "      <th>votes</th>\n",
       "      <th>cool</th>\n",
       "      <th>useful</th>\n",
       "      <th>funny</th>\n",
       "    </tr>\n",
       "  </thead>\n",
       "  <tbody>\n",
       "    <tr>\n",
       "      <th>9953</th>\n",
       "      <td>QCxXYA13PtkD3wec47_r8Q</td>\n",
       "      <td>2012-03-14</td>\n",
       "      <td>V2N2TCqnaqMYfg7zXGG-Rg</td>\n",
       "      <td>1</td>\n",
       "      <td>\"Hipster,Trendy\" ????-I think NOT !!!! Very di...</td>\n",
       "      <td>review</td>\n",
       "      <td>JEQ6el2-tLtKJU6k_SpE-w</td>\n",
       "      <td>{u'funny': 0, u'useful': 2, u'cool': 0}</td>\n",
       "      <td>0</td>\n",
       "      <td>2</td>\n",
       "      <td>0</td>\n",
       "    </tr>\n",
       "    <tr>\n",
       "      <th>3850</th>\n",
       "      <td>hGQsnkndreW7b26XC2HVRA</td>\n",
       "      <td>2010-03-17</td>\n",
       "      <td>ScnMz8HfacbcMtZ7lFbo-Q</td>\n",
       "      <td>4</td>\n",
       "      <td>My husband &amp; I have been going to one Zipp's o...</td>\n",
       "      <td>review</td>\n",
       "      <td>RJX1E5_xwd5x15TYFOYv1g</td>\n",
       "      <td>{u'funny': 0, u'useful': 1, u'cool': 0}</td>\n",
       "      <td>0</td>\n",
       "      <td>1</td>\n",
       "      <td>0</td>\n",
       "    </tr>\n",
       "    <tr>\n",
       "      <th>4962</th>\n",
       "      <td>_TekkyyFeX_8MBepPIxuTg</td>\n",
       "      <td>2012-08-09</td>\n",
       "      <td>IwujucKW_I4Hd-D47N3jWQ</td>\n",
       "      <td>5</td>\n",
       "      <td>Perfect place for a hot summer day.  Amazing p...</td>\n",
       "      <td>review</td>\n",
       "      <td>ngU1vdwjT2lGOsdTq1JK5A</td>\n",
       "      <td>{u'funny': 0, u'useful': 1, u'cool': 0}</td>\n",
       "      <td>0</td>\n",
       "      <td>1</td>\n",
       "      <td>0</td>\n",
       "    </tr>\n",
       "  </tbody>\n",
       "</table>\n",
       "</div>"
      ],
      "text/plain": [
       "                 business_id        date               review_id  stars  \\\n",
       "9953  QCxXYA13PtkD3wec47_r8Q  2012-03-14  V2N2TCqnaqMYfg7zXGG-Rg      1   \n",
       "3850  hGQsnkndreW7b26XC2HVRA  2010-03-17  ScnMz8HfacbcMtZ7lFbo-Q      4   \n",
       "4962  _TekkyyFeX_8MBepPIxuTg  2012-08-09  IwujucKW_I4Hd-D47N3jWQ      5   \n",
       "\n",
       "                                                   text    type  \\\n",
       "9953  \"Hipster,Trendy\" ????-I think NOT !!!! Very di...  review   \n",
       "3850  My husband & I have been going to one Zipp's o...  review   \n",
       "4962  Perfect place for a hot summer day.  Amazing p...  review   \n",
       "\n",
       "                     user_id                                    votes  cool  \\\n",
       "9953  JEQ6el2-tLtKJU6k_SpE-w  {u'funny': 0, u'useful': 2, u'cool': 0}     0   \n",
       "3850  RJX1E5_xwd5x15TYFOYv1g  {u'funny': 0, u'useful': 1, u'cool': 0}     0   \n",
       "4962  ngU1vdwjT2lGOsdTq1JK5A  {u'funny': 0, u'useful': 1, u'cool': 0}     0   \n",
       "\n",
       "      useful  funny  \n",
       "9953       2      0  \n",
       "3850       1      0  \n",
       "4962       1      0  "
      ]
     },
     "execution_count": 36,
     "metadata": {},
     "output_type": "execute_result"
    }
   ],
   "source": [
    "# add DataFrame columns for cool, useful, and funny\n",
    "\n",
    "df['cool'] = df.votes.map(lambda x : x['cool'])\n",
    "df['useful'] = df.votes.map(lambda x: x['useful'])\n",
    "df['funny'] = df.votes.map(lambda x: x['funny'])\n",
    "df.sample(n=3, random_state=1)"
   ]
  },
  {
   "cell_type": "code",
   "execution_count": 37,
   "metadata": {},
   "outputs": [
    {
     "data": {
      "text/html": [
       "<div>\n",
       "<style>\n",
       "    .dataframe thead tr:only-child th {\n",
       "        text-align: right;\n",
       "    }\n",
       "\n",
       "    .dataframe thead th {\n",
       "        text-align: left;\n",
       "    }\n",
       "\n",
       "    .dataframe tbody tr th {\n",
       "        vertical-align: top;\n",
       "    }\n",
       "</style>\n",
       "<table border=\"1\" class=\"dataframe\">\n",
       "  <thead>\n",
       "    <tr style=\"text-align: right;\">\n",
       "      <th></th>\n",
       "      <th>cool</th>\n",
       "      <th>funny</th>\n",
       "      <th>useful</th>\n",
       "    </tr>\n",
       "  </thead>\n",
       "  <tbody>\n",
       "    <tr>\n",
       "      <th>0</th>\n",
       "      <td>2</td>\n",
       "      <td>0</td>\n",
       "      <td>5</td>\n",
       "    </tr>\n",
       "    <tr>\n",
       "      <th>1</th>\n",
       "      <td>0</td>\n",
       "      <td>0</td>\n",
       "      <td>0</td>\n",
       "    </tr>\n",
       "    <tr>\n",
       "      <th>2</th>\n",
       "      <td>0</td>\n",
       "      <td>0</td>\n",
       "      <td>1</td>\n",
       "    </tr>\n",
       "    <tr>\n",
       "      <th>3</th>\n",
       "      <td>1</td>\n",
       "      <td>0</td>\n",
       "      <td>2</td>\n",
       "    </tr>\n",
       "    <tr>\n",
       "      <th>4</th>\n",
       "      <td>0</td>\n",
       "      <td>0</td>\n",
       "      <td>0</td>\n",
       "    </tr>\n",
       "  </tbody>\n",
       "</table>\n",
       "</div>"
      ],
      "text/plain": [
       "   cool  funny  useful\n",
       "0     2      0       5\n",
       "1     0      0       0\n",
       "2     0      0       1\n",
       "3     1      0       2\n",
       "4     0      0       0"
      ]
     },
     "execution_count": 37,
     "metadata": {},
     "output_type": "execute_result"
    }
   ],
   "source": [
    "# another way to get the cool, funny, useful:\n",
    "pd.DataFrame.from_records(df.votes).head()"
   ]
  },
  {
   "cell_type": "code",
   "execution_count": 38,
   "metadata": {},
   "outputs": [
    {
     "data": {
      "text/html": [
       "<div>\n",
       "<style>\n",
       "    .dataframe thead tr:only-child th {\n",
       "        text-align: right;\n",
       "    }\n",
       "\n",
       "    .dataframe thead th {\n",
       "        text-align: left;\n",
       "    }\n",
       "\n",
       "    .dataframe tbody tr th {\n",
       "        vertical-align: top;\n",
       "    }\n",
       "</style>\n",
       "<table border=\"1\" class=\"dataframe\">\n",
       "  <thead>\n",
       "    <tr style=\"text-align: right;\">\n",
       "      <th></th>\n",
       "      <th>business_id</th>\n",
       "      <th>date</th>\n",
       "      <th>review_id</th>\n",
       "      <th>stars</th>\n",
       "      <th>text</th>\n",
       "      <th>type</th>\n",
       "      <th>user_id</th>\n",
       "      <th>votes</th>\n",
       "      <th>cool</th>\n",
       "      <th>useful</th>\n",
       "      <th>funny</th>\n",
       "      <th>cool</th>\n",
       "      <th>funny</th>\n",
       "      <th>useful</th>\n",
       "    </tr>\n",
       "  </thead>\n",
       "  <tbody>\n",
       "    <tr>\n",
       "      <th>0</th>\n",
       "      <td>9yKzy9PApeiPPOUJEtnvkg</td>\n",
       "      <td>2011-01-26</td>\n",
       "      <td>fWKvX83p0-ka4JS3dc6E5A</td>\n",
       "      <td>5</td>\n",
       "      <td>My wife took me here on my birthday for breakf...</td>\n",
       "      <td>review</td>\n",
       "      <td>rLtl8ZkDX5vH5nAx9C3q5Q</td>\n",
       "      <td>{u'funny': 0, u'useful': 5, u'cool': 2}</td>\n",
       "      <td>2</td>\n",
       "      <td>5</td>\n",
       "      <td>0</td>\n",
       "      <td>2</td>\n",
       "      <td>0</td>\n",
       "      <td>5</td>\n",
       "    </tr>\n",
       "    <tr>\n",
       "      <th>1</th>\n",
       "      <td>ZRJwVLyzEJq1VAihDhYiow</td>\n",
       "      <td>2011-07-27</td>\n",
       "      <td>IjZ33sJrzXqU-0X6U8NwyA</td>\n",
       "      <td>5</td>\n",
       "      <td>I have no idea why some people give bad review...</td>\n",
       "      <td>review</td>\n",
       "      <td>0a2KyEL0d3Yb1V6aivbIuQ</td>\n",
       "      <td>{u'funny': 0, u'useful': 0, u'cool': 0}</td>\n",
       "      <td>0</td>\n",
       "      <td>0</td>\n",
       "      <td>0</td>\n",
       "      <td>0</td>\n",
       "      <td>0</td>\n",
       "      <td>0</td>\n",
       "    </tr>\n",
       "    <tr>\n",
       "      <th>2</th>\n",
       "      <td>6oRAC4uyJCsJl1X0WZpVSA</td>\n",
       "      <td>2012-06-14</td>\n",
       "      <td>IESLBzqUCLdSzSqm0eCSxQ</td>\n",
       "      <td>4</td>\n",
       "      <td>love the gyro plate. Rice is so good and I als...</td>\n",
       "      <td>review</td>\n",
       "      <td>0hT2KtfLiobPvh6cDC8JQg</td>\n",
       "      <td>{u'funny': 0, u'useful': 1, u'cool': 0}</td>\n",
       "      <td>0</td>\n",
       "      <td>1</td>\n",
       "      <td>0</td>\n",
       "      <td>0</td>\n",
       "      <td>0</td>\n",
       "      <td>1</td>\n",
       "    </tr>\n",
       "  </tbody>\n",
       "</table>\n",
       "</div>"
      ],
      "text/plain": [
       "              business_id        date               review_id  stars  \\\n",
       "0  9yKzy9PApeiPPOUJEtnvkg  2011-01-26  fWKvX83p0-ka4JS3dc6E5A      5   \n",
       "1  ZRJwVLyzEJq1VAihDhYiow  2011-07-27  IjZ33sJrzXqU-0X6U8NwyA      5   \n",
       "2  6oRAC4uyJCsJl1X0WZpVSA  2012-06-14  IESLBzqUCLdSzSqm0eCSxQ      4   \n",
       "\n",
       "                                                text    type  \\\n",
       "0  My wife took me here on my birthday for breakf...  review   \n",
       "1  I have no idea why some people give bad review...  review   \n",
       "2  love the gyro plate. Rice is so good and I als...  review   \n",
       "\n",
       "                  user_id                                    votes  cool  \\\n",
       "0  rLtl8ZkDX5vH5nAx9C3q5Q  {u'funny': 0, u'useful': 5, u'cool': 2}     2   \n",
       "1  0a2KyEL0d3Yb1V6aivbIuQ  {u'funny': 0, u'useful': 0, u'cool': 0}     0   \n",
       "2  0hT2KtfLiobPvh6cDC8JQg  {u'funny': 0, u'useful': 1, u'cool': 0}     0   \n",
       "\n",
       "   useful  funny  cool  funny  useful  \n",
       "0       5      0     2      0       5  \n",
       "1       0      0     0      0       0  \n",
       "2       1      0     0      0       1  "
      ]
     },
     "execution_count": 38,
     "metadata": {},
     "output_type": "execute_result"
    }
   ],
   "source": [
    "# Concat the above DataFrame to the df\n",
    "df_temp = pd.DataFrame.from_records(df.votes)\n",
    "df = pd.concat([df, df_temp], axis=1)\n",
    "df.head(3)"
   ]
  },
  {
   "cell_type": "code",
   "execution_count": 39,
   "metadata": {},
   "outputs": [
    {
     "data": {
      "text/html": [
       "<div>\n",
       "<style>\n",
       "    .dataframe thead tr:only-child th {\n",
       "        text-align: right;\n",
       "    }\n",
       "\n",
       "    .dataframe thead th {\n",
       "        text-align: left;\n",
       "    }\n",
       "\n",
       "    .dataframe tbody tr th {\n",
       "        vertical-align: top;\n",
       "    }\n",
       "</style>\n",
       "<table border=\"1\" class=\"dataframe\">\n",
       "  <thead>\n",
       "    <tr style=\"text-align: right;\">\n",
       "      <th></th>\n",
       "      <th>business_id</th>\n",
       "      <th>date</th>\n",
       "      <th>review_id</th>\n",
       "      <th>stars</th>\n",
       "      <th>text</th>\n",
       "      <th>type</th>\n",
       "      <th>user_id</th>\n",
       "      <th>cool</th>\n",
       "      <th>useful</th>\n",
       "      <th>funny</th>\n",
       "      <th>cool</th>\n",
       "      <th>funny</th>\n",
       "      <th>useful</th>\n",
       "    </tr>\n",
       "  </thead>\n",
       "  <tbody>\n",
       "    <tr>\n",
       "      <th>9953</th>\n",
       "      <td>QCxXYA13PtkD3wec47_r8Q</td>\n",
       "      <td>2012-03-14</td>\n",
       "      <td>V2N2TCqnaqMYfg7zXGG-Rg</td>\n",
       "      <td>1</td>\n",
       "      <td>\"Hipster,Trendy\" ????-I think NOT !!!! Very di...</td>\n",
       "      <td>review</td>\n",
       "      <td>JEQ6el2-tLtKJU6k_SpE-w</td>\n",
       "      <td>0</td>\n",
       "      <td>2</td>\n",
       "      <td>0</td>\n",
       "      <td>0</td>\n",
       "      <td>0</td>\n",
       "      <td>2</td>\n",
       "    </tr>\n",
       "    <tr>\n",
       "      <th>3850</th>\n",
       "      <td>hGQsnkndreW7b26XC2HVRA</td>\n",
       "      <td>2010-03-17</td>\n",
       "      <td>ScnMz8HfacbcMtZ7lFbo-Q</td>\n",
       "      <td>4</td>\n",
       "      <td>My husband &amp; I have been going to one Zipp's o...</td>\n",
       "      <td>review</td>\n",
       "      <td>RJX1E5_xwd5x15TYFOYv1g</td>\n",
       "      <td>0</td>\n",
       "      <td>1</td>\n",
       "      <td>0</td>\n",
       "      <td>0</td>\n",
       "      <td>0</td>\n",
       "      <td>1</td>\n",
       "    </tr>\n",
       "    <tr>\n",
       "      <th>4962</th>\n",
       "      <td>_TekkyyFeX_8MBepPIxuTg</td>\n",
       "      <td>2012-08-09</td>\n",
       "      <td>IwujucKW_I4Hd-D47N3jWQ</td>\n",
       "      <td>5</td>\n",
       "      <td>Perfect place for a hot summer day.  Amazing p...</td>\n",
       "      <td>review</td>\n",
       "      <td>ngU1vdwjT2lGOsdTq1JK5A</td>\n",
       "      <td>0</td>\n",
       "      <td>1</td>\n",
       "      <td>0</td>\n",
       "      <td>0</td>\n",
       "      <td>0</td>\n",
       "      <td>1</td>\n",
       "    </tr>\n",
       "  </tbody>\n",
       "</table>\n",
       "</div>"
      ],
      "text/plain": [
       "                 business_id        date               review_id  stars  \\\n",
       "9953  QCxXYA13PtkD3wec47_r8Q  2012-03-14  V2N2TCqnaqMYfg7zXGG-Rg      1   \n",
       "3850  hGQsnkndreW7b26XC2HVRA  2010-03-17  ScnMz8HfacbcMtZ7lFbo-Q      4   \n",
       "4962  _TekkyyFeX_8MBepPIxuTg  2012-08-09  IwujucKW_I4Hd-D47N3jWQ      5   \n",
       "\n",
       "                                                   text    type  \\\n",
       "9953  \"Hipster,Trendy\" ????-I think NOT !!!! Very di...  review   \n",
       "3850  My husband & I have been going to one Zipp's o...  review   \n",
       "4962  Perfect place for a hot summer day.  Amazing p...  review   \n",
       "\n",
       "                     user_id  cool  useful  funny  cool  funny  useful  \n",
       "9953  JEQ6el2-tLtKJU6k_SpE-w     0       2      0     0      0       2  \n",
       "3850  RJX1E5_xwd5x15TYFOYv1g     0       1      0     0      0       1  \n",
       "4962  ngU1vdwjT2lGOsdTq1JK5A     0       1      0     0      0       1  "
      ]
     },
     "execution_count": 39,
     "metadata": {},
     "output_type": "execute_result"
    }
   ],
   "source": [
    "# drop the votes column and then display the head\n",
    "df.drop('votes', axis=1).sample(n=3, random_state=1)"
   ]
  },
  {
   "cell_type": "code",
   "execution_count": 120,
   "metadata": {},
   "outputs": [
    {
     "data": {
      "text/html": [
       "<div>\n",
       "<style>\n",
       "    .dataframe thead tr:only-child th {\n",
       "        text-align: right;\n",
       "    }\n",
       "\n",
       "    .dataframe thead th {\n",
       "        text-align: left;\n",
       "    }\n",
       "\n",
       "    .dataframe tbody tr th {\n",
       "        vertical-align: top;\n",
       "    }\n",
       "</style>\n",
       "<table border=\"1\" class=\"dataframe\">\n",
       "  <thead>\n",
       "    <tr style=\"text-align: right;\">\n",
       "      <th></th>\n",
       "      <th>business_id</th>\n",
       "      <th>date</th>\n",
       "      <th>review_id</th>\n",
       "      <th>stars</th>\n",
       "      <th>text</th>\n",
       "      <th>type</th>\n",
       "      <th>user_id</th>\n",
       "      <th>votes</th>\n",
       "      <th>cool</th>\n",
       "      <th>funny</th>\n",
       "      <th>useful</th>\n",
       "    </tr>\n",
       "  </thead>\n",
       "  <tbody>\n",
       "    <tr>\n",
       "      <th>7945</th>\n",
       "      <td>B8ujMtvvpHyEQ2r_QlAT2w</td>\n",
       "      <td>2005-04-18</td>\n",
       "      <td>kwxmuNqc5EcaErD2zYpoKw</td>\n",
       "      <td>5</td>\n",
       "      <td>Wood fired pizzas, scrumptious pasta dishes an...</td>\n",
       "      <td>review</td>\n",
       "      <td>6VZNGc2h2Bn-uyuEXgOt5g</td>\n",
       "      <td>{u'funny': 0, u'useful': 3, u'cool': 5}</td>\n",
       "      <td>5</td>\n",
       "      <td>0</td>\n",
       "      <td>3</td>\n",
       "    </tr>\n",
       "  </tbody>\n",
       "</table>\n",
       "</div>"
      ],
      "text/plain": [
       "                 business_id        date               review_id  stars  \\\n",
       "7945  B8ujMtvvpHyEQ2r_QlAT2w  2005-04-18  kwxmuNqc5EcaErD2zYpoKw      5   \n",
       "\n",
       "                                                   text    type  \\\n",
       "7945  Wood fired pizzas, scrumptious pasta dishes an...  review   \n",
       "\n",
       "                     user_id                                    votes  cool  \\\n",
       "7945  6VZNGc2h2Bn-uyuEXgOt5g  {u'funny': 0, u'useful': 3, u'cool': 5}     5   \n",
       "\n",
       "      funny  useful  \n",
       "7945      0       3  "
      ]
     },
     "execution_count": 120,
     "metadata": {},
     "output_type": "execute_result"
    }
   ],
   "source": [
    "#SEC: per note above, trying to pull the \"first\" review by earliest date.\n",
    "# df.date.min() # blanket sort of all records to pull earliest review\n",
    "df.sort_values('date').head(1)\n",
    "# df.sort_values('date').groupby(['business_id']).first() # this selects earliest review by business. useful for later...\n"
   ]
  },
  {
   "cell_type": "markdown",
   "metadata": {},
   "source": [
    "## Task 2\n",
    "\n",
    "Explore the relationship between each of the vote types (cool/useful/funny) and the number of stars."
   ]
  },
  {
   "cell_type": "code",
   "execution_count": 45,
   "metadata": {},
   "outputs": [
    {
     "data": {
      "text/html": [
       "<div>\n",
       "<style>\n",
       "    .dataframe thead tr:only-child th {\n",
       "        text-align: right;\n",
       "    }\n",
       "\n",
       "    .dataframe thead th {\n",
       "        text-align: left;\n",
       "    }\n",
       "\n",
       "    .dataframe tbody tr th {\n",
       "        vertical-align: top;\n",
       "    }\n",
       "</style>\n",
       "<table border=\"1\" class=\"dataframe\">\n",
       "  <thead>\n",
       "    <tr style=\"text-align: right;\">\n",
       "      <th></th>\n",
       "      <th>business_id</th>\n",
       "      <th>date</th>\n",
       "      <th>review_id</th>\n",
       "      <th>stars</th>\n",
       "      <th>text</th>\n",
       "      <th>type</th>\n",
       "      <th>user_id</th>\n",
       "      <th>cool</th>\n",
       "      <th>funny</th>\n",
       "      <th>useful</th>\n",
       "    </tr>\n",
       "  </thead>\n",
       "  <tbody>\n",
       "    <tr>\n",
       "      <th>9953</th>\n",
       "      <td>QCxXYA13PtkD3wec47_r8Q</td>\n",
       "      <td>2012-03-14</td>\n",
       "      <td>V2N2TCqnaqMYfg7zXGG-Rg</td>\n",
       "      <td>1</td>\n",
       "      <td>\"Hipster,Trendy\" ????-I think NOT !!!! Very di...</td>\n",
       "      <td>review</td>\n",
       "      <td>JEQ6el2-tLtKJU6k_SpE-w</td>\n",
       "      <td>0</td>\n",
       "      <td>0</td>\n",
       "      <td>2</td>\n",
       "    </tr>\n",
       "    <tr>\n",
       "      <th>3850</th>\n",
       "      <td>hGQsnkndreW7b26XC2HVRA</td>\n",
       "      <td>2010-03-17</td>\n",
       "      <td>ScnMz8HfacbcMtZ7lFbo-Q</td>\n",
       "      <td>4</td>\n",
       "      <td>My husband &amp; I have been going to one Zipp's o...</td>\n",
       "      <td>review</td>\n",
       "      <td>RJX1E5_xwd5x15TYFOYv1g</td>\n",
       "      <td>0</td>\n",
       "      <td>0</td>\n",
       "      <td>1</td>\n",
       "    </tr>\n",
       "    <tr>\n",
       "      <th>4962</th>\n",
       "      <td>_TekkyyFeX_8MBepPIxuTg</td>\n",
       "      <td>2012-08-09</td>\n",
       "      <td>IwujucKW_I4Hd-D47N3jWQ</td>\n",
       "      <td>5</td>\n",
       "      <td>Perfect place for a hot summer day.  Amazing p...</td>\n",
       "      <td>review</td>\n",
       "      <td>ngU1vdwjT2lGOsdTq1JK5A</td>\n",
       "      <td>0</td>\n",
       "      <td>0</td>\n",
       "      <td>1</td>\n",
       "    </tr>\n",
       "  </tbody>\n",
       "</table>\n",
       "</div>"
      ],
      "text/plain": [
       "                 business_id        date               review_id  stars  \\\n",
       "9953  QCxXYA13PtkD3wec47_r8Q  2012-03-14  V2N2TCqnaqMYfg7zXGG-Rg      1   \n",
       "3850  hGQsnkndreW7b26XC2HVRA  2010-03-17  ScnMz8HfacbcMtZ7lFbo-Q      4   \n",
       "4962  _TekkyyFeX_8MBepPIxuTg  2012-08-09  IwujucKW_I4Hd-D47N3jWQ      5   \n",
       "\n",
       "                                                   text    type  \\\n",
       "9953  \"Hipster,Trendy\" ????-I think NOT !!!! Very di...  review   \n",
       "3850  My husband & I have been going to one Zipp's o...  review   \n",
       "4962  Perfect place for a hot summer day.  Amazing p...  review   \n",
       "\n",
       "                     user_id  cool  funny  useful  \n",
       "9953  JEQ6el2-tLtKJU6k_SpE-w     0      0       2  \n",
       "3850  RJX1E5_xwd5x15TYFOYv1g     0      0       1  \n",
       "4962  ngU1vdwjT2lGOsdTq1JK5A     0      0       1  "
      ]
     },
     "execution_count": 45,
     "metadata": {},
     "output_type": "execute_result"
    }
   ],
   "source": [
    "#SEC: because I got screwy stuff from above I started from scratch\n",
    "\n",
    "import json\n",
    "with open('../data/yelp.json', 'rU') as f:\n",
    "    data = [json.loads(row) for row in f]\n",
    "df = pd.DataFrame.from_dict(data)\n",
    "df_temp = pd.DataFrame.from_records(df.votes)\n",
    "df = pd.concat([df, df_temp], axis=1)\n",
    "df.drop('votes', axis=1).sample(n=3, random_state=1)\n",
    "\n"
   ]
  },
  {
   "cell_type": "code",
   "execution_count": 46,
   "metadata": {},
   "outputs": [
    {
     "data": {
      "text/html": [
       "<div>\n",
       "<style>\n",
       "    .dataframe thead tr:only-child th {\n",
       "        text-align: right;\n",
       "    }\n",
       "\n",
       "    .dataframe thead th {\n",
       "        text-align: left;\n",
       "    }\n",
       "\n",
       "    .dataframe tbody tr th {\n",
       "        vertical-align: top;\n",
       "    }\n",
       "</style>\n",
       "<table border=\"1\" class=\"dataframe\">\n",
       "  <thead>\n",
       "    <tr style=\"text-align: right;\">\n",
       "      <th></th>\n",
       "      <th>cool</th>\n",
       "      <th>funny</th>\n",
       "      <th>useful</th>\n",
       "    </tr>\n",
       "    <tr>\n",
       "      <th>stars</th>\n",
       "      <th></th>\n",
       "      <th></th>\n",
       "      <th></th>\n",
       "    </tr>\n",
       "  </thead>\n",
       "  <tbody>\n",
       "    <tr>\n",
       "      <th>1</th>\n",
       "      <td>0.576769</td>\n",
       "      <td>1.056075</td>\n",
       "      <td>1.604806</td>\n",
       "    </tr>\n",
       "    <tr>\n",
       "      <th>2</th>\n",
       "      <td>0.719525</td>\n",
       "      <td>0.875944</td>\n",
       "      <td>1.563107</td>\n",
       "    </tr>\n",
       "    <tr>\n",
       "      <th>3</th>\n",
       "      <td>0.788501</td>\n",
       "      <td>0.694730</td>\n",
       "      <td>1.306639</td>\n",
       "    </tr>\n",
       "    <tr>\n",
       "      <th>4</th>\n",
       "      <td>0.954623</td>\n",
       "      <td>0.670448</td>\n",
       "      <td>1.395916</td>\n",
       "    </tr>\n",
       "    <tr>\n",
       "      <th>5</th>\n",
       "      <td>0.944261</td>\n",
       "      <td>0.608631</td>\n",
       "      <td>1.381780</td>\n",
       "    </tr>\n",
       "  </tbody>\n",
       "</table>\n",
       "</div>"
      ],
      "text/plain": [
       "           cool     funny    useful\n",
       "stars                              \n",
       "1      0.576769  1.056075  1.604806\n",
       "2      0.719525  0.875944  1.563107\n",
       "3      0.788501  0.694730  1.306639\n",
       "4      0.954623  0.670448  1.395916\n",
       "5      0.944261  0.608631  1.381780"
      ]
     },
     "execution_count": 46,
     "metadata": {},
     "output_type": "execute_result"
    }
   ],
   "source": [
    "# treat stars as a categorical variable and look for differences between groups \n",
    "# by comparing the means of the groups\n",
    "cool_mean = df.groupby(['stars']).cool.mean()\n",
    "useful_mean = df.groupby(['stars']).useful.mean()\n",
    "funny_mean = df.groupby(['stars']).funny.mean()\n",
    "df_mean_concat = pd.concat([cool_mean, funny_mean, useful_mean], axis=1)\n",
    "df_mean_concat\n",
    "#SEC: I got this above when I tried to get row counts by 'stars'"
   ]
  },
  {
   "cell_type": "code",
   "execution_count": 53,
   "metadata": {},
   "outputs": [
    {
     "data": {
      "text/html": [
       "<div>\n",
       "<style>\n",
       "    .dataframe thead tr:only-child th {\n",
       "        text-align: right;\n",
       "    }\n",
       "\n",
       "    .dataframe thead th {\n",
       "        text-align: left;\n",
       "    }\n",
       "\n",
       "    .dataframe tbody tr th {\n",
       "        vertical-align: top;\n",
       "    }\n",
       "</style>\n",
       "<table border=\"1\" class=\"dataframe\">\n",
       "  <thead>\n",
       "    <tr style=\"text-align: right;\">\n",
       "      <th></th>\n",
       "      <th>cool</th>\n",
       "      <th>funny</th>\n",
       "      <th>useful</th>\n",
       "    </tr>\n",
       "    <tr>\n",
       "      <th>stars</th>\n",
       "      <th></th>\n",
       "      <th></th>\n",
       "      <th></th>\n",
       "    </tr>\n",
       "  </thead>\n",
       "  <tbody>\n",
       "    <tr>\n",
       "      <th>1</th>\n",
       "      <td>0.576769</td>\n",
       "      <td>1.056075</td>\n",
       "      <td>1.604806</td>\n",
       "    </tr>\n",
       "    <tr>\n",
       "      <th>2</th>\n",
       "      <td>0.719525</td>\n",
       "      <td>0.875944</td>\n",
       "      <td>1.563107</td>\n",
       "    </tr>\n",
       "    <tr>\n",
       "      <th>3</th>\n",
       "      <td>0.788501</td>\n",
       "      <td>0.694730</td>\n",
       "      <td>1.306639</td>\n",
       "    </tr>\n",
       "    <tr>\n",
       "      <th>4</th>\n",
       "      <td>0.954623</td>\n",
       "      <td>0.670448</td>\n",
       "      <td>1.395916</td>\n",
       "    </tr>\n",
       "    <tr>\n",
       "      <th>5</th>\n",
       "      <td>0.944261</td>\n",
       "      <td>0.608631</td>\n",
       "      <td>1.381780</td>\n",
       "    </tr>\n",
       "  </tbody>\n",
       "</table>\n",
       "</div>"
      ],
      "text/plain": [
       "           cool     funny    useful\n",
       "stars                              \n",
       "1      0.576769  1.056075  1.604806\n",
       "2      0.719525  0.875944  1.563107\n",
       "3      0.788501  0.694730  1.306639\n",
       "4      0.954623  0.670448  1.395916\n",
       "5      0.944261  0.608631  1.381780"
      ]
     },
     "execution_count": 53,
     "metadata": {},
     "output_type": "execute_result"
    }
   ],
   "source": [
    "# easier way to do this\n",
    "df.groupby(['stars']).mean()"
   ]
  },
  {
   "cell_type": "code",
   "execution_count": 62,
   "metadata": {
    "scrolled": true
   },
   "outputs": [
    {
     "data": {
      "text/plain": [
       "<matplotlib.axes._subplots.AxesSubplot at 0x16b2f4a8>"
      ]
     },
     "execution_count": 62,
     "metadata": {},
     "output_type": "execute_result"
    },
    {
     "data": {
      "image/png": "[encoded data removed]",
      "text/plain": [
       "<matplotlib.figure.Figure at 0x16a30898>"
      ]
     },
     "metadata": {},
     "output_type": "display_data"
    }
   ],
   "source": [
    "# display a correlation matrix of the vote types (cool/useful/funny) and stars\n",
    "%matplotlib inline\n",
    "import seaborn as sns\n",
    "sns.heatmap(yelp.corr(), cmap=\"YlGnBu\", annot=True)\n",
    "#SEC: added some formatting per this reference http://seaborn.pydata.org/generated/seaborn.heatmap.html"
   ]
  },
  {
   "cell_type": "code",
   "execution_count": 56,
   "metadata": {},
   "outputs": [
    {
     "data": {
      "text/html": [
       "<div>\n",
       "<style>\n",
       "    .dataframe thead tr:only-child th {\n",
       "        text-align: right;\n",
       "    }\n",
       "\n",
       "    .dataframe thead th {\n",
       "        text-align: left;\n",
       "    }\n",
       "\n",
       "    .dataframe tbody tr th {\n",
       "        vertical-align: top;\n",
       "    }\n",
       "</style>\n",
       "<table border=\"1\" class=\"dataframe\">\n",
       "  <thead>\n",
       "    <tr style=\"text-align: right;\">\n",
       "      <th></th>\n",
       "      <th>stars</th>\n",
       "      <th>cool</th>\n",
       "      <th>useful</th>\n",
       "      <th>funny</th>\n",
       "    </tr>\n",
       "  </thead>\n",
       "  <tbody>\n",
       "    <tr>\n",
       "      <th>stars</th>\n",
       "      <td>1.000000</td>\n",
       "      <td>0.052555</td>\n",
       "      <td>-0.023479</td>\n",
       "      <td>-0.061306</td>\n",
       "    </tr>\n",
       "    <tr>\n",
       "      <th>cool</th>\n",
       "      <td>0.052555</td>\n",
       "      <td>1.000000</td>\n",
       "      <td>0.887102</td>\n",
       "      <td>0.764342</td>\n",
       "    </tr>\n",
       "    <tr>\n",
       "      <th>useful</th>\n",
       "      <td>-0.023479</td>\n",
       "      <td>0.887102</td>\n",
       "      <td>1.000000</td>\n",
       "      <td>0.723406</td>\n",
       "    </tr>\n",
       "    <tr>\n",
       "      <th>funny</th>\n",
       "      <td>-0.061306</td>\n",
       "      <td>0.764342</td>\n",
       "      <td>0.723406</td>\n",
       "      <td>1.000000</td>\n",
       "    </tr>\n",
       "  </tbody>\n",
       "</table>\n",
       "</div>"
      ],
      "text/plain": [
       "           stars      cool    useful     funny\n",
       "stars   1.000000  0.052555 -0.023479 -0.061306\n",
       "cool    0.052555  1.000000  0.887102  0.764342\n",
       "useful -0.023479  0.887102  1.000000  0.723406\n",
       "funny  -0.061306  0.764342  0.723406  1.000000"
      ]
     },
     "execution_count": 56,
     "metadata": {},
     "output_type": "execute_result"
    }
   ],
   "source": [
    "yelp.corr()"
   ]
  },
  {
   "cell_type": "code",
   "execution_count": 57,
   "metadata": {},
   "outputs": [
    {
     "data": {
      "text/plain": [
       "<seaborn.axisgrid.PairGrid at 0xff7b710>"
      ]
     },
     "execution_count": 57,
     "metadata": {},
     "output_type": "execute_result"
    },
    {
     "data": {
      "image/png": "[encoded data removed]",
      "text/plain": [
       "<matplotlib.figure.Figure at 0xd960ac8>"
      ]
     },
     "metadata": {},
     "output_type": "display_data"
    }
   ],
   "source": [
    "# display multiple scatter plots (cool, useful, funny) with linear regression line\n",
    "# To use seaborn for multiple plots:\n",
    "import seaborn as sns; sns.set(color_codes=True)\n",
    "feature_cols = ['cool', 'useful', 'funny']\n",
    "sns.pairplot(yelp, x_vars=feature_cols, y_vars='stars', kind='reg')"
   ]
  },
  {
   "cell_type": "code",
   "execution_count": 63,
   "metadata": {},
   "outputs": [
    {
     "data": {
      "text/plain": [
       "<matplotlib.axes._subplots.AxesSubplot at 0x16adea58>"
      ]
     },
     "execution_count": 63,
     "metadata": {},
     "output_type": "execute_result"
    },
    {
     "data": {
      "image/png": "[encoded data removed]",
      "text/plain": [
       "<matplotlib.figure.Figure at 0x16acce10>"
      ]
     },
     "metadata": {},
     "output_type": "display_data"
    }
   ],
   "source": [
    "# To use seaborn for single plots:\n",
    "sns.regplot(x='funny', y=\"stars\", data=yelp)"
   ]
  },
  {
   "cell_type": "code",
   "execution_count": 64,
   "metadata": {},
   "outputs": [
    {
     "data": {
      "text/plain": [
       "<seaborn.axisgrid.PairGrid at 0x182884a8>"
      ]
     },
     "execution_count": 64,
     "metadata": {},
     "output_type": "execute_result"
    },
    {
     "data": {
      "image/png": "[encoded data removed]",
      "text/plain": [
       "<matplotlib.figure.Figure at 0x182884e0>"
      ]
     },
     "metadata": {},
     "output_type": "display_data"
    }
   ],
   "source": [
    "# To use seaborn for single plots:\n",
    "sns.pairplot(yelp, x_vars='funny', y_vars='stars', kind='reg')"
   ]
  },
  {
   "cell_type": "code",
   "execution_count": 65,
   "metadata": {},
   "outputs": [],
   "source": [
    "# To use matplotlib + scikit LinearRegression to achive the same\n",
    "x = yelp.funny.values.reshape(-1, 1) \n",
    "y = yelp.stars.values"
   ]
  },
  {
   "cell_type": "code",
   "execution_count": 66,
   "metadata": {},
   "outputs": [],
   "source": [
    "# To use matplotlib + scikit LinearRegression to achive the same\n",
    "from sklearn.linear_model import LinearRegression as LinReg\n",
    "reg = LinReg()    # Instantiate the LinearRegression()\n",
    "reg.fit(x, y)\n",
    "y_preds = reg.predict(x)"
   ]
  },
  {
   "cell_type": "code",
   "execution_count": 68,
   "metadata": {},
   "outputs": [
    {
     "data": {
      "text/plain": [
       "<matplotlib.text.Text at 0x186fc828>"
      ]
     },
     "execution_count": 68,
     "metadata": {},
     "output_type": "execute_result"
    },
    {
     "data": {
      "image/png": "[encoded data removed]",
      "text/plain": [
       "<matplotlib.figure.Figure at 0x18796ac8>"
      ]
     },
     "metadata": {},
     "output_type": "display_data"
    }
   ],
   "source": [
    "# To use matplotlib + scikit LinearRegression to achive the same for single plot\n",
    "import matplotlib.pyplot as plt\n",
    "plt.scatter(x = x, y = y_preds, marker='*',c = 'b')\n",
    "plt.scatter(x = x, y = y, c = 'r')\n",
    "plt.title(\"Linear Regression\")"
   ]
  },
  {
   "cell_type": "code",
   "execution_count": 69,
   "metadata": {},
   "outputs": [
    {
     "data": {
      "image/png": "[encoded data removed]",
      "text/plain": [
       "<matplotlib.figure.Figure at 0x188feb38>"
      ]
     },
     "metadata": {},
     "output_type": "display_data"
    }
   ],
   "source": [
    "# multiple scatter plots in matplotlib, but can not get regression on the same plot\n",
    "fig, axs = plt.subplots(1, len(feature_cols), sharey=True)  # 1 rwo, 4 cols\n",
    "for i, feature in enumerate(feature_cols):\n",
    "    yelp.plot(kind='scatter', x=feature, y='stars', ax=axs[i], figsize=(16, 3))\n",
    "#     plt.scatter(x = i, y = y_preds, marker='+',c = 'b')\n",
    "#     plt.scatter(x = i, y = y, c = 'r')"
   ]
  },
  {
   "cell_type": "markdown",
   "metadata": {},
   "source": [
    "## Task 3\n",
    "\n",
    "Define cool/useful/funny as the feature matrix X, and stars as the response vector y."
   ]
  },
  {
   "cell_type": "code",
   "execution_count": 70,
   "metadata": {},
   "outputs": [],
   "source": [
    "feature_columns = ['cool', 'useful', 'funny']\n",
    "X = yelp[feature_columns]\n",
    "y = yelp.stars"
   ]
  },
  {
   "cell_type": "markdown",
   "metadata": {},
   "source": [
    "## Task 4\n",
    "\n",
    "Fit a linear regression model and interpret the coefficients. Do the coefficients make intuitive sense to you? Explore the Yelp website to see if you detect similar trends."
   ]
  },
  {
   "cell_type": "code",
   "execution_count": 71,
   "metadata": {},
   "outputs": [
    {
     "data": {
      "text/plain": [
       "LinearRegression(copy_X=True, fit_intercept=True, n_jobs=1, normalize=False)"
      ]
     },
     "execution_count": 71,
     "metadata": {},
     "output_type": "execute_result"
    }
   ],
   "source": [
    "from sklearn.linear_model import LinearRegression\n",
    "linreg = LinearRegression()\n",
    "linreg.fit(X, y)"
   ]
  },
  {
   "cell_type": "code",
   "execution_count": 72,
   "metadata": {},
   "outputs": [
    {
     "data": {
      "text/plain": [
       "(3.8398947927830829, array([ 0.27435947, -0.14745239, -0.13567449]))"
      ]
     },
     "execution_count": 72,
     "metadata": {},
     "output_type": "execute_result"
    }
   ],
   "source": [
    "linreg.intercept_, linreg.coef_"
   ]
  },
  {
   "cell_type": "code",
   "execution_count": 73,
   "metadata": {},
   "outputs": [
    {
     "data": {
      "text/plain": [
       "[('cool', 0.27435946858853061),\n",
       " ('useful', -0.14745239099401478),\n",
       " ('funny', -0.13567449053706179)]"
      ]
     },
     "execution_count": 73,
     "metadata": {},
     "output_type": "execute_result"
    }
   ],
   "source": [
    "zip(feature_cols, linreg.coef_)"
   ]
  },
  {
   "cell_type": "markdown",
   "metadata": {},
   "source": [
    "##### SEC: If you look at the results of \"df.groupby(['stars']).mean()\" and think it through it makes some sense.  \n",
    "* 2/3 of the star data is either 4 or 5, so the 3.84 intercept makes sense.  \n",
    "* a (slightly) negative correlation of funny makes sense, since most people tend to enjoy the brutal snarky reviews.  \n",
    "* the positive correlation with \"cool\" may not be as useful, since it seems that users don't use that rating as much...?  \n",
    "* the negative correlation with \"useful\" isn't as intuitive, except those reviews might be qualitatively unhelpful. I would want to explore other factors (perhaps a word count of the 'text' field?... or after later lessons, word mappings or word frequencies?)\n",
    "\n",
    "\n",
    "\n",
    "for more information on Yelp ratings, https://www.quora.com/How-did-Yelp-decide-on-useful-funny-and-cool-as-the-qualitative-dimensions-by-which-to-rate-a-review"
   ]
  },
  {
   "cell_type": "markdown",
   "metadata": {},
   "source": [
    "## Task 5\n",
    "\n",
    "Evaluate the model by splitting it into training and testing sets and computing the RMSE. Does the RMSE make intuitive sense to you?"
   ]
  },
  {
   "cell_type": "code",
   "execution_count": 76,
   "metadata": {},
   "outputs": [
    {
     "name": "stderr",
     "output_type": "stream",
     "text": [
      "C:\\Users\\schri\\Anaconda2\\lib\\site-packages\\sklearn\\cross_validation.py:44: DeprecationWarning: This module was deprecated in version 0.18 in favor of the model_selection module into which all the refactored classes and functions are moved. Also note that the interface of the new CV iterators are different from that of this module. This module will be removed in 0.20.\n",
      "  \"This module will be removed in 0.20.\", DeprecationWarning)\n"
     ]
    }
   ],
   "source": [
    "from sklearn.cross_validation import train_test_split\n",
    "from sklearn import metrics\n",
    "import numpy as np\n",
    "#SEC: note that the cross_validation module is being deprecated in favor of using the model_selection module. \n",
    "# Here's the documentation on model_selection http://scikit-learn.org/stable/model_selection.html\n",
    "# and the documentation on train test split using that module http://scikit-learn.org/stable/modules/generated/sklearn.model_selection.train_test_split.html"
   ]
  },
  {
   "cell_type": "code",
   "execution_count": 77,
   "metadata": {
    "collapsed": true
   },
   "outputs": [],
   "source": [
    "# define a function that accepts a list of features and returns testing RMSE\n",
    "def train_test_rmse(feature_cols):\n",
    "    X = yelp[feature_cols]\n",
    "    y = yelp.stars\n",
    "    X_train, X_test, y_train, y_test = train_test_split(X, y, random_state=123)\n",
    "    linreg = LinearRegression()\n",
    "    linreg.fit(X, y)                  # fit the model using whole set\n",
    "    y_pred = linreg.predict(X_test)\n",
    "    return np.sqrt(metrics.mean_squared_error(y_test, y_pred))\n",
    "\n",
    "def train_test_rmse_curious(feature_cols):\n",
    "    X = yelp[feature_cols]\n",
    "    y = yelp.stars\n",
    "    X_train, X_test, y_train, y_test = train_test_split(X, y, random_state=123)\n",
    "    linreg = LinearRegression()\n",
    "    linreg.fit(X_train, y_train)       # fit the model using training set\n",
    "    y_pred = linreg.predict(X_test)\n",
    "    return np.sqrt(metrics.mean_squared_error(y_test, y_pred))"
   ]
  },
  {
   "cell_type": "code",
   "execution_count": 78,
   "metadata": {},
   "outputs": [
    {
     "name": "stdout",
     "output_type": "stream",
     "text": [
      "('Whole set to fit the model:', 1.1727746541534982)\n",
      "('Training set to fit the model:', 1.1733686274194506)\n"
     ]
    }
   ],
   "source": [
    "# calculate RMSE with all three features\n",
    "train_test_split(X, y, random_state=123)\n",
    "print('Whole set to fit the model:', train_test_rmse(['cool','useful','funny']))\n",
    "print('Training set to fit the model:', train_test_rmse_curious(['cool','useful','funny']))"
   ]
  },
  {
   "cell_type": "markdown",
   "metadata": {},
   "source": [
    "## Task 6\n",
    "\n",
    "Try removing some of the features and see if the RMSE improves."
   ]
  },
  {
   "cell_type": "code",
   "execution_count": 79,
   "metadata": {},
   "outputs": [
    {
     "name": "stdout",
     "output_type": "stream",
     "text": [
      "('Whole set:', 1.2004814572247986)\n",
      "('Whole set:', 1.2013802225121155)\n",
      "('Training set:', 1.2007011358855331)\n",
      "('Training set:', 1.2014348862473769)\n"
     ]
    }
   ],
   "source": [
    "print('Whole set:', train_test_rmse(['funny','useful']))\n",
    "print('Whole set:', train_test_rmse(['useful']))\n",
    "print('Training set:', train_test_rmse_curious(['funny','useful']))\n",
    "print('Training set:', train_test_rmse_curious(['useful']))"
   ]
  },
  {
   "cell_type": "markdown",
   "metadata": {},
   "source": [
    "## Task 7 (Bonus)\n",
    "\n",
    "Think of some new features you could create from the existing data that might be predictive of the response. Figure out how to create those features in Pandas, add them to your model, and see if the RMSE improves."
   ]
  },
  {
   "cell_type": "code",
   "execution_count": 80,
   "metadata": {},
   "outputs": [
    {
     "name": "stdout",
     "output_type": "stream",
     "text": [
      "('length of review: ', 419)\n",
      "('length of review: ', 864)\n"
     ]
    },
    {
     "data": {
      "text/plain": [
       "0        889\n",
       "1       1345\n",
       "2         76\n",
       "3        419\n",
       "4        469\n",
       "5       2094\n",
       "6       1565\n",
       "7        274\n",
       "8        349\n",
       "9        186\n",
       "10       298\n",
       "11       321\n",
       "12       433\n",
       "13       593\n",
       "14      1206\n",
       "15       705\n",
       "16      1469\n",
       "17       363\n",
       "18      1161\n",
       "19       726\n",
       "20       565\n",
       "21       104\n",
       "22       148\n",
       "23       594\n",
       "24       294\n",
       "25      1012\n",
       "26       921\n",
       "27       550\n",
       "28      1011\n",
       "29       225\n",
       "        ... \n",
       "9970     432\n",
       "9971     318\n",
       "9972     411\n",
       "9973     353\n",
       "9974     473\n",
       "9975    1015\n",
       "9976     465\n",
       "9977    2919\n",
       "9978     493\n",
       "9979     244\n",
       "9980     393\n",
       "9981     885\n",
       "9982     240\n",
       "9983     861\n",
       "9984    1673\n",
       "9985      68\n",
       "9986     647\n",
       "9987     200\n",
       "9988     496\n",
       "9989      49\n",
       "9990     263\n",
       "9991     908\n",
       "9992    1326\n",
       "9993     426\n",
       "9994    1968\n",
       "9995     668\n",
       "9996     881\n",
       "9997    1425\n",
       "9998     880\n",
       "9999     461\n",
       "Name: length, Length: 10000, dtype: int64"
      ]
     },
     "execution_count": 80,
     "metadata": {},
     "output_type": "execute_result"
    }
   ],
   "source": [
    "# SEC: to my point above, the five star reviews may be deemed less useful due to a qualitative aspect \n",
    "    # (length, or users look for specific details about food, atmosphere, etc) length of review seems easiest to capture.\n",
    "yelp.type.unique()\n",
    "type(yelp.text)\n",
    "print('length of review: ', len(yelp.iloc[3]['text']))\n",
    "print('length of review: ', len(yelp.iloc[500]['text']))\n",
    "yelp['length'] = yelp.text.str.len()\n",
    "\n",
    "\n",
    "yelp.length"
   ]
  },
  {
   "cell_type": "code",
   "execution_count": 81,
   "metadata": {},
   "outputs": [
    {
     "data": {
      "text/html": [
       "<div>\n",
       "<style>\n",
       "    .dataframe thead tr:only-child th {\n",
       "        text-align: right;\n",
       "    }\n",
       "\n",
       "    .dataframe thead th {\n",
       "        text-align: left;\n",
       "    }\n",
       "\n",
       "    .dataframe tbody tr th {\n",
       "        vertical-align: top;\n",
       "    }\n",
       "</style>\n",
       "<table border=\"1\" class=\"dataframe\">\n",
       "  <thead>\n",
       "    <tr style=\"text-align: right;\">\n",
       "      <th></th>\n",
       "      <th>business_id</th>\n",
       "      <th>date</th>\n",
       "      <th>review_id</th>\n",
       "      <th>stars</th>\n",
       "      <th>text</th>\n",
       "      <th>type</th>\n",
       "      <th>user_id</th>\n",
       "      <th>cool</th>\n",
       "      <th>useful</th>\n",
       "      <th>funny</th>\n",
       "      <th>length</th>\n",
       "    </tr>\n",
       "  </thead>\n",
       "  <tbody>\n",
       "    <tr>\n",
       "      <th>9953</th>\n",
       "      <td>QCxXYA13PtkD3wec47_r8Q</td>\n",
       "      <td>2012-03-14</td>\n",
       "      <td>V2N2TCqnaqMYfg7zXGG-Rg</td>\n",
       "      <td>1</td>\n",
       "      <td>\"Hipster,Trendy\" ????-I think NOT !!!! Very di...</td>\n",
       "      <td>review</td>\n",
       "      <td>JEQ6el2-tLtKJU6k_SpE-w</td>\n",
       "      <td>0</td>\n",
       "      <td>2</td>\n",
       "      <td>0</td>\n",
       "      <td>296</td>\n",
       "    </tr>\n",
       "    <tr>\n",
       "      <th>3850</th>\n",
       "      <td>hGQsnkndreW7b26XC2HVRA</td>\n",
       "      <td>2010-03-17</td>\n",
       "      <td>ScnMz8HfacbcMtZ7lFbo-Q</td>\n",
       "      <td>4</td>\n",
       "      <td>My husband &amp; I have been going to one Zipp's o...</td>\n",
       "      <td>review</td>\n",
       "      <td>RJX1E5_xwd5x15TYFOYv1g</td>\n",
       "      <td>0</td>\n",
       "      <td>1</td>\n",
       "      <td>0</td>\n",
       "      <td>801</td>\n",
       "    </tr>\n",
       "    <tr>\n",
       "      <th>4962</th>\n",
       "      <td>_TekkyyFeX_8MBepPIxuTg</td>\n",
       "      <td>2012-08-09</td>\n",
       "      <td>IwujucKW_I4Hd-D47N3jWQ</td>\n",
       "      <td>5</td>\n",
       "      <td>Perfect place for a hot summer day.  Amazing p...</td>\n",
       "      <td>review</td>\n",
       "      <td>ngU1vdwjT2lGOsdTq1JK5A</td>\n",
       "      <td>0</td>\n",
       "      <td>1</td>\n",
       "      <td>0</td>\n",
       "      <td>137</td>\n",
       "    </tr>\n",
       "  </tbody>\n",
       "</table>\n",
       "</div>"
      ],
      "text/plain": [
       "                 business_id        date               review_id  stars  \\\n",
       "9953  QCxXYA13PtkD3wec47_r8Q  2012-03-14  V2N2TCqnaqMYfg7zXGG-Rg      1   \n",
       "3850  hGQsnkndreW7b26XC2HVRA  2010-03-17  ScnMz8HfacbcMtZ7lFbo-Q      4   \n",
       "4962  _TekkyyFeX_8MBepPIxuTg  2012-08-09  IwujucKW_I4Hd-D47N3jWQ      5   \n",
       "\n",
       "                                                   text    type  \\\n",
       "9953  \"Hipster,Trendy\" ????-I think NOT !!!! Very di...  review   \n",
       "3850  My husband & I have been going to one Zipp's o...  review   \n",
       "4962  Perfect place for a hot summer day.  Amazing p...  review   \n",
       "\n",
       "                     user_id  cool  useful  funny  length  \n",
       "9953  JEQ6el2-tLtKJU6k_SpE-w     0       2      0     296  \n",
       "3850  RJX1E5_xwd5x15TYFOYv1g     0       1      0     801  \n",
       "4962  ngU1vdwjT2lGOsdTq1JK5A     0       1      0     137  "
      ]
     },
     "execution_count": 81,
     "metadata": {},
     "output_type": "execute_result"
    }
   ],
   "source": [
    "yelp.sample(n=3, random_state=1)"
   ]
  },
  {
   "cell_type": "code",
   "execution_count": 82,
   "metadata": {
    "collapsed": true
   },
   "outputs": [],
   "source": [
    "# new feature:\n",
    "new_feature_columns = ['cool', 'useful', 'funny', 'length']"
   ]
  },
  {
   "cell_type": "code",
   "execution_count": 83,
   "metadata": {
    "collapsed": true
   },
   "outputs": [],
   "source": [
    "# new features: \n",
    "X_2 = yelp[new_feature_columns]\n",
    "y = yelp.stars"
   ]
  },
  {
   "cell_type": "code",
   "execution_count": 84,
   "metadata": {},
   "outputs": [
    {
     "name": "stdout",
     "output_type": "stream",
     "text": [
      "('Whole set to fit the model:', 1.1660975100739146)\n"
     ]
    }
   ],
   "source": [
    "# add new features to the model and calculate RMSE\n",
    "train_test_split(X_2, y, random_state=123)\n",
    "print('Whole set to fit the model:', train_test_rmse(['cool','useful','funny','length']))"
   ]
  },
  {
   "cell_type": "markdown",
   "metadata": {},
   "source": [
    "#### SEC: the results suggest the length of the text [review] correlates to higher ratings.  "
   ]
  },
  {
   "cell_type": "code",
   "execution_count": 90,
   "metadata": {},
   "outputs": [
    {
     "name": "stdout",
     "output_type": "stream",
     "text": [
      "('Whole set to fit the model:', 1.1937993128671136)\n"
     ]
    }
   ],
   "source": [
    "new_feature_columns_3 = ['length']\n",
    "X_3 = yelp[new_feature_columns_3]\n",
    "y = yelp.stars\n",
    "train_test_split(X_2, y, random_state=123)\n",
    "print('Whole set to fit the model:', train_test_rmse(['length']))"
   ]
  },
  {
   "cell_type": "code",
   "execution_count": 97,
   "metadata": {},
   "outputs": [
    {
     "data": {
      "text/plain": [
       "[      cool  useful  funny  length\n",
       " 9174     1       2      1    1062\n",
       " 4379     1       2      1     499\n",
       " 541      0       0      0     611\n",
       " 7251     0       0      0     305\n",
       " 1135     7       8     10     633\n",
       " 9978     0       1      0     493\n",
       " 3536     2       1      1     508\n",
       " 5891     0       0      0     851\n",
       " 3906     3       3      2     670\n",
       " 4348     0       1      0      11\n",
       " 889      0       0      0     145\n",
       " 3927     0       0      0     697\n",
       " 2017     1       1      0     477\n",
       " 2497     0       0      0     268\n",
       " 3779     2       1      0    1164\n",
       " 7652     2       3      1    1000\n",
       " 7513     1       2      1     117\n",
       " 8765     0       0      0     294\n",
       " 5234     0       0      0     320\n",
       " 2995     0       1      0    1215\n",
       " 2350     1       1      1    1591\n",
       " 466      0       0      0     236\n",
       " 5758     2       3      1     596\n",
       " 1299     0       0      0     173\n",
       " 9717     0       0      0     166\n",
       " 9256     0       0      0     316\n",
       " 4109     0       1      0    3581\n",
       " 2092     0       0      0     140\n",
       " 3628     1       3      3    1236\n",
       " 1057     0       0      0     111\n",
       " ...    ...     ...    ...     ...\n",
       " 7344     0       0      0     309\n",
       " 6077     0       0      0     737\n",
       " 6648     0       0      0     580\n",
       " 6740     0       0      0     242\n",
       " 9998     0       0      0     880\n",
       " 39       1       1      0     445\n",
       " 6484     1       1      1     414\n",
       " 1847     0       1      0     615\n",
       " 7985     0       0      0     344\n",
       " 1092     0       0      0     395\n",
       " 3325     2       1      1    1448\n",
       " 2894     6       5      4     542\n",
       " 1363     0       1      0     228\n",
       " 3481     0       0      0    1608\n",
       " 111      0       2      0     577\n",
       " 6368     0       1      0     272\n",
       " 942      0       1      0    1002\n",
       " 5664     0       1      1     562\n",
       " 4169     0       0      0    1113\n",
       " 4143     0       1      0     280\n",
       " 6782     0       1      0     222\n",
       " 6257     0       0      0     704\n",
       " 96       1       1      0     298\n",
       " 5857     0       0      0     476\n",
       " 7382     0       0      0     534\n",
       " 9785     0       0      0     481\n",
       " 7763     0       0      0     843\n",
       " 5218     0       0      0     397\n",
       " 1346     0       0      0     304\n",
       " 3582     1       1      1     717\n",
       " \n",
       " [7500 rows x 4 columns],       cool  useful  funny  length\n",
       " 2656     0       0      0    2517\n",
       " 445      2       2      0     300\n",
       " 9505     0       0      0    1010\n",
       " 332      0       1      0     866\n",
       " 4168     0       0      0     205\n",
       " 2364     1       1      0     196\n",
       " 6097     1       2      0     532\n",
       " 7        0       1      0     274\n",
       " 7752     1       2      1    1251\n",
       " 4453     0       0      0     346\n",
       " 4743     0       2      1    1161\n",
       " 6243     0       0      0      26\n",
       " 3126     0       1      0     383\n",
       " 4056     0       1      0    2358\n",
       " 5852     0       0      0    1838\n",
       " 628      0       0      0     263\n",
       " 8545     0       2      0     781\n",
       " 2481     0       1      0     453\n",
       " 9743     2       2      0     481\n",
       " 1335     0       0      0    1132\n",
       " 2683     1       2      0     609\n",
       " 4566     0       1      0     140\n",
       " 2514     1       1      0     335\n",
       " 9353     0       0      0      78\n",
       " 1907     0       0      0     556\n",
       " 2802     1       1      1      33\n",
       " 6890     0       0      0     328\n",
       " 784      0       0      0     100\n",
       " 9489     4       5      8     524\n",
       " 6893     0       1      0      36\n",
       " ...    ...     ...    ...     ...\n",
       " 4649     1       5      1    1416\n",
       " 3645     1       0      0     210\n",
       " 9751     0       1      0    1220\n",
       " 4129     1       1      0    1929\n",
       " 9561     0       1      0     440\n",
       " 7183     0       1      1     346\n",
       " 1479     0       0      0     476\n",
       " 2109     0       1      0     748\n",
       " 6523     0       1      0     142\n",
       " 9912     1       2      0     325\n",
       " 6474     1       2      1     988\n",
       " 2069     1       1      0     748\n",
       " 4026     1       2      1     578\n",
       " 8740     0       1      1     436\n",
       " 7827     1       2      1     556\n",
       " 4613     0       1      0     200\n",
       " 3516     9       8      6      77\n",
       " 8400     1       5      1    1426\n",
       " 2322     0       0      1    1337\n",
       " 582      6       8      2     827\n",
       " 8951     0       1      0     150\n",
       " 5153     0       0      0     115\n",
       " 1667     2       3      5    1432\n",
       " 1516     0       0      0    1101\n",
       " 4990     0       2      0    1277\n",
       " 397      1       1      0     592\n",
       " 5552     2       2      1     537\n",
       " 1453     4       5      2     647\n",
       " 4469     0       0      0     207\n",
       " 2413     0       0      0     319\n",
       " \n",
       " [2500 rows x 4 columns], 9174    4\n",
       " 4379    4\n",
       " 541     4\n",
       " 7251    5\n",
       " 1135    4\n",
       " 9978    5\n",
       " 3536    3\n",
       " 5891    3\n",
       " 3906    4\n",
       " 4348    4\n",
       " 889     3\n",
       " 3927    4\n",
       " 2017    4\n",
       " 2497    4\n",
       " 3779    4\n",
       " 7652    4\n",
       " 7513    1\n",
       " 8765    5\n",
       " 5234    4\n",
       " 2995    1\n",
       " 2350    4\n",
       " 466     4\n",
       " 5758    4\n",
       " 1299    1\n",
       " 9717    3\n",
       " 9256    5\n",
       " 4109    2\n",
       " 2092    4\n",
       " 3628    1\n",
       " 1057    5\n",
       "        ..\n",
       " 7344    5\n",
       " 6077    4\n",
       " 6648    1\n",
       " 6740    5\n",
       " 9998    2\n",
       " 39      4\n",
       " 6484    4\n",
       " 1847    4\n",
       " 7985    4\n",
       " 1092    4\n",
       " 3325    4\n",
       " 2894    4\n",
       " 1363    5\n",
       " 3481    3\n",
       " 111     5\n",
       " 6368    4\n",
       " 942     1\n",
       " 5664    4\n",
       " 4169    2\n",
       " 4143    5\n",
       " 6782    5\n",
       " 6257    5\n",
       " 96      4\n",
       " 5857    3\n",
       " 7382    1\n",
       " 9785    5\n",
       " 7763    4\n",
       " 5218    2\n",
       " 1346    3\n",
       " 3582    4\n",
       " Name: stars, Length: 7500, dtype: int64, 2656    3\n",
       " 445     5\n",
       " 9505    4\n",
       " 332     2\n",
       " 4168    4\n",
       " 2364    4\n",
       " 6097    5\n",
       " 7       4\n",
       " 7752    4\n",
       " 4453    4\n",
       " 4743    1\n",
       " 6243    5\n",
       " 3126    5\n",
       " 4056    3\n",
       " 5852    2\n",
       " 628     4\n",
       " 8545    1\n",
       " 2481    3\n",
       " 9743    3\n",
       " 1335    4\n",
       " 2683    5\n",
       " 4566    5\n",
       " 2514    2\n",
       " 9353    5\n",
       " 1907    4\n",
       " 2802    4\n",
       " 6890    3\n",
       " 784     5\n",
       " 9489    5\n",
       " 6893    4\n",
       "        ..\n",
       " 4649    4\n",
       " 3645    5\n",
       " 9751    2\n",
       " 4129    5\n",
       " 9561    5\n",
       " 7183    2\n",
       " 1479    5\n",
       " 2109    4\n",
       " 6523    2\n",
       " 9912    4\n",
       " 6474    4\n",
       " 2069    3\n",
       " 4026    4\n",
       " 8740    4\n",
       " 7827    1\n",
       " 4613    5\n",
       " 3516    5\n",
       " 8400    3\n",
       " 2322    5\n",
       " 582     4\n",
       " 8951    4\n",
       " 5153    2\n",
       " 1667    1\n",
       " 1516    4\n",
       " 4990    3\n",
       " 397     3\n",
       " 5552    4\n",
       " 1453    4\n",
       " 4469    4\n",
       " 2413    5\n",
       " Name: stars, Length: 2500, dtype: int64]"
      ]
     },
     "execution_count": 97,
     "metadata": {},
     "output_type": "execute_result"
    }
   ],
   "source": [
    "new_feature_columns_4 = ['useful','length']\n",
    "X_4 = yelp[new_feature_columns_4]\n",
    "y = yelp.stars\n",
    "train_test_split(X_2, y, random_state=123)"
   ]
  },
  {
   "cell_type": "code",
   "execution_count": 98,
   "metadata": {},
   "outputs": [
    {
     "name": "stdout",
     "output_type": "stream",
     "text": [
      "('Whole set to fit the model:', 1.2004851386415936)\n",
      "('Whole set to fit the model:', 1.2013802225121155)\n",
      "('Whole set to fit the model:', 1.2003558240659991)\n",
      "('Whole set to fit the model:', 1.1937993128671136)\n"
     ]
    }
   ],
   "source": [
    "print('Whole set to fit the model:', train_test_rmse(['cool']))\n",
    "print('Whole set to fit the model:', train_test_rmse(['useful']))\n",
    "print('Whole set to fit the model:', train_test_rmse(['funny']))\n",
    "print('Whole set to fit the model:', train_test_rmse(['length']))"
   ]
  },
  {
   "cell_type": "markdown",
   "metadata": {},
   "source": [
    "### SEC: As a marketer who sometimes has to accommodate tight budgets, when data cost money it's worth checking to see if one feature can do the job of many. In this case, RMSE for cool+useful+funny is 1.173, RMSE for cool+useful+funny+length = 1.166 and RMSE for length alone = 1.194.\n",
    "\n",
    "#### Another avenue to explore would be using the earliest (minimum) review date for a given business (groupby 'business_id') as a baseline (i.e. the \"first review\"), does length of time of subsequent reviews impact star rating (so is there a correlation between how long is the business is open and their star ratings? Do old businesses perform at higher ratings?) "
   ]
  },
  {
   "cell_type": "markdown",
   "metadata": {},
   "source": [
    "## Task 8 (Bonus)\n",
    "\n",
    "Compare your best RMSE on the testing set with the RMSE for the \"null model\", which is the model that ignores all features and simply predicts the mean response value in the testing set."
   ]
  },
  {
   "cell_type": "code",
   "execution_count": 92,
   "metadata": {},
   "outputs": [],
   "source": [
    "# compute null accuracy\n",
    "\n",
    "# Null RMSE is the RMSE that could be achieved by always predicting the mean response value. \n",
    "# It is a benchmark against which you may want to measure your regression model\n",
    "\n",
    "# split X and y into training and testing sets\n",
    "X_train, X_test, y_train, y_test = train_test_split(X, y, random_state=123)"
   ]
  },
  {
   "cell_type": "code",
   "execution_count": 93,
   "metadata": {},
   "outputs": [],
   "source": [
    "# create a NumPy array with the same shape as y_test\n",
    "y_null = np.zeros_like(y_test, dtype=float)"
   ]
  },
  {
   "cell_type": "code",
   "execution_count": 94,
   "metadata": {},
   "outputs": [
    {
     "data": {
      "text/plain": [
       "array([ 3.7808,  3.7808,  3.7808, ...,  3.7808,  3.7808,  3.7808])"
      ]
     },
     "execution_count": 94,
     "metadata": {},
     "output_type": "execute_result"
    }
   ],
   "source": [
    "# fill the array with the mean value of y_test\n",
    "y_null.fill(y_test.mean())\n",
    "y_null"
   ]
  },
  {
   "cell_type": "code",
   "execution_count": 95,
   "metadata": {},
   "outputs": [
    {
     "data": {
      "text/plain": [
       "1.2019781029619465"
      ]
     },
     "execution_count": 95,
     "metadata": {},
     "output_type": "execute_result"
    }
   ],
   "source": [
    "# compute null RMSE with:\n",
    "# np.sqrt(metrics.mean_squared_error(y_test, y_pred)) \n",
    "# using whole set to fit the model: 1.17277465415\n",
    "np.sqrt(metrics.mean_squared_error(y_test, y_null))"
   ]
  },
  {
   "cell_type": "markdown",
   "metadata": {},
   "source": [
    "#### SEC: So the 'cool', 'useful' and 'funny' features individually are about as good as the NULL value for prediction. The 'length' or four features together are slightly better than NULL... but they're determining a dataset where 2/3 of the data falls between 4 and 5. "
   ]
  },
  {
   "cell_type": "code",
   "execution_count": 96,
   "metadata": {},
   "outputs": [
    {
     "data": {
      "text/plain": [
       "4    907\n",
       "5    821\n",
       "3    349\n",
       "2    249\n",
       "1    174\n",
       "Name: stars, dtype: int64"
      ]
     },
     "execution_count": 96,
     "metadata": {},
     "output_type": "execute_result"
    }
   ],
   "source": [
    "# examine the class distribution\n",
    "y_test.value_counts()    # 907 rows have 4 stars, 821 rows have 5 stars"
   ]
  },
  {
   "cell_type": "code",
   "execution_count": null,
   "metadata": {
    "collapsed": true
   },
   "outputs": [],
   "source": []
  }
 ],
 "metadata": {
  "kernelspec": {
   "display_name": "Python 2",
   "language": "python",
   "name": "python2"
  },
  "language_info": {
   "codemirror_mode": {
    "name": "ipython",
    "version": 2
   },
   "file_extension": ".py",
   "mimetype": "text/x-python",
   "name": "python",
   "nbconvert_exporter": "python",
   "pygments_lexer": "ipython2",
   "version": "2.7.13"
  }
 },
 "nbformat": 4,
 "nbformat_minor": 1
}
